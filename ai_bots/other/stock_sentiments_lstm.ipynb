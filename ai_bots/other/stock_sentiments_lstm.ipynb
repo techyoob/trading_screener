{
 "cells": [
  {
   "cell_type": "code",
   "execution_count": 55,
   "metadata": {},
   "outputs": [],
   "source": [
    "import numpy as np\n",
    "import pandas as pd\n",
    "import matplotlib.pyplot as plt\n",
    "from sklearn.model_selection  import train_test_split\n",
    "import re\n",
    "from keras.models import Sequential, load_model\n",
    "from keras.layers import LSTM, Dense, Embedding, Dropout\n",
    "from keras.preprocessing.text import Tokenizer\n",
    "from keras.preprocessing.sequence import pad_sequences"
   ]
  },
  {
   "cell_type": "code",
   "execution_count": 56,
   "metadata": {},
   "outputs": [
    {
     "data": {
      "text/html": [
       "<div>\n",
       "<style scoped>\n",
       "    .dataframe tbody tr th:only-of-type {\n",
       "        vertical-align: middle;\n",
       "    }\n",
       "\n",
       "    .dataframe tbody tr th {\n",
       "        vertical-align: top;\n",
       "    }\n",
       "\n",
       "    .dataframe thead th {\n",
       "        text-align: right;\n",
       "    }\n",
       "</style>\n",
       "<table border=\"1\" class=\"dataframe\">\n",
       "  <thead>\n",
       "    <tr style=\"text-align: right;\">\n",
       "      <th></th>\n",
       "      <th>tweet_id</th>\n",
       "      <th>airline_sentiment</th>\n",
       "      <th>airline_sentiment_confidence</th>\n",
       "      <th>negativereason</th>\n",
       "      <th>negativereason_confidence</th>\n",
       "      <th>airline</th>\n",
       "      <th>airline_sentiment_gold</th>\n",
       "      <th>name</th>\n",
       "      <th>negativereason_gold</th>\n",
       "      <th>retweet_count</th>\n",
       "      <th>text</th>\n",
       "      <th>tweet_coord</th>\n",
       "      <th>tweet_created</th>\n",
       "      <th>tweet_location</th>\n",
       "      <th>user_timezone</th>\n",
       "    </tr>\n",
       "  </thead>\n",
       "  <tbody>\n",
       "    <tr>\n",
       "      <th>0</th>\n",
       "      <td>567862586374529026</td>\n",
       "      <td>negative</td>\n",
       "      <td>1.0</td>\n",
       "      <td>Late Flight</td>\n",
       "      <td>0.3612</td>\n",
       "      <td>United</td>\n",
       "      <td>NaN</td>\n",
       "      <td>Tgoody9</td>\n",
       "      <td>NaN</td>\n",
       "      <td>0</td>\n",
       "      <td>@united haha that's fine. Still won't fly @uni...</td>\n",
       "      <td>[40.69429232, -74.17208436]</td>\n",
       "      <td>2015-02-17 17:46:05 -0800</td>\n",
       "      <td>Sarasota, Florida</td>\n",
       "      <td>Central Time (US &amp; Canada)</td>\n",
       "    </tr>\n",
       "    <tr>\n",
       "      <th>1</th>\n",
       "      <td>568878979576410112</td>\n",
       "      <td>negative</td>\n",
       "      <td>1.0</td>\n",
       "      <td>Late Flight</td>\n",
       "      <td>1.0000</td>\n",
       "      <td>US Airways</td>\n",
       "      <td>NaN</td>\n",
       "      <td>Allisonjones704</td>\n",
       "      <td>NaN</td>\n",
       "      <td>0</td>\n",
       "      <td>@USAirways since when does a maintenance probl...</td>\n",
       "      <td>NaN</td>\n",
       "      <td>2015-02-20 13:04:52 -0800</td>\n",
       "      <td>NaN</td>\n",
       "      <td>NaN</td>\n",
       "    </tr>\n",
       "    <tr>\n",
       "      <th>2</th>\n",
       "      <td>569229483288317952</td>\n",
       "      <td>neutral</td>\n",
       "      <td>1.0</td>\n",
       "      <td>NaN</td>\n",
       "      <td>NaN</td>\n",
       "      <td>Southwest</td>\n",
       "      <td>NaN</td>\n",
       "      <td>Kbono91</td>\n",
       "      <td>NaN</td>\n",
       "      <td>0</td>\n",
       "      <td>@SouthwestAir Any chance there's a few seats o...</td>\n",
       "      <td>NaN</td>\n",
       "      <td>2015-02-21 12:17:39 -0800</td>\n",
       "      <td>NaN</td>\n",
       "      <td>NaN</td>\n",
       "    </tr>\n",
       "    <tr>\n",
       "      <th>3</th>\n",
       "      <td>569634364780351488</td>\n",
       "      <td>positive</td>\n",
       "      <td>1.0</td>\n",
       "      <td>NaN</td>\n",
       "      <td>NaN</td>\n",
       "      <td>US Airways</td>\n",
       "      <td>NaN</td>\n",
       "      <td>nanceebing</td>\n",
       "      <td>NaN</td>\n",
       "      <td>0</td>\n",
       "      <td>@USAirways please keep Emily at you gso airpor...</td>\n",
       "      <td>NaN</td>\n",
       "      <td>2015-02-22 15:06:30 -0800</td>\n",
       "      <td>south beach/ LA / NC</td>\n",
       "      <td>Eastern Time (US &amp; Canada)</td>\n",
       "    </tr>\n",
       "    <tr>\n",
       "      <th>4</th>\n",
       "      <td>569895100526039040</td>\n",
       "      <td>negative</td>\n",
       "      <td>1.0</td>\n",
       "      <td>Flight Booking Problems</td>\n",
       "      <td>0.6495</td>\n",
       "      <td>US Airways</td>\n",
       "      <td>NaN</td>\n",
       "      <td>dan3598328</td>\n",
       "      <td>NaN</td>\n",
       "      <td>0</td>\n",
       "      <td>@USAirways i will be Cancelled Flighting my us...</td>\n",
       "      <td>NaN</td>\n",
       "      <td>2015-02-23 08:22:34 -0800</td>\n",
       "      <td>Hillsborough, New Jersey</td>\n",
       "      <td>Eastern Time (US &amp; Canada)</td>\n",
       "    </tr>\n",
       "  </tbody>\n",
       "</table>\n",
       "</div>"
      ],
      "text/plain": [
       "             tweet_id airline_sentiment  airline_sentiment_confidence  \\\n",
       "0  567862586374529026          negative                           1.0   \n",
       "1  568878979576410112          negative                           1.0   \n",
       "2  569229483288317952           neutral                           1.0   \n",
       "3  569634364780351488          positive                           1.0   \n",
       "4  569895100526039040          negative                           1.0   \n",
       "\n",
       "            negativereason  negativereason_confidence     airline  \\\n",
       "0              Late Flight                     0.3612      United   \n",
       "1              Late Flight                     1.0000  US Airways   \n",
       "2                      NaN                        NaN   Southwest   \n",
       "3                      NaN                        NaN  US Airways   \n",
       "4  Flight Booking Problems                     0.6495  US Airways   \n",
       "\n",
       "  airline_sentiment_gold             name negativereason_gold  retweet_count  \\\n",
       "0                    NaN          Tgoody9                 NaN              0   \n",
       "1                    NaN  Allisonjones704                 NaN              0   \n",
       "2                    NaN          Kbono91                 NaN              0   \n",
       "3                    NaN       nanceebing                 NaN              0   \n",
       "4                    NaN       dan3598328                 NaN              0   \n",
       "\n",
       "                                                text  \\\n",
       "0  @united haha that's fine. Still won't fly @uni...   \n",
       "1  @USAirways since when does a maintenance probl...   \n",
       "2  @SouthwestAir Any chance there's a few seats o...   \n",
       "3  @USAirways please keep Emily at you gso airpor...   \n",
       "4  @USAirways i will be Cancelled Flighting my us...   \n",
       "\n",
       "                   tweet_coord              tweet_created  \\\n",
       "0  [40.69429232, -74.17208436]  2015-02-17 17:46:05 -0800   \n",
       "1                          NaN  2015-02-20 13:04:52 -0800   \n",
       "2                          NaN  2015-02-21 12:17:39 -0800   \n",
       "3                          NaN  2015-02-22 15:06:30 -0800   \n",
       "4                          NaN  2015-02-23 08:22:34 -0800   \n",
       "\n",
       "             tweet_location               user_timezone  \n",
       "0        Sarasota, Florida   Central Time (US & Canada)  \n",
       "1                       NaN                         NaN  \n",
       "2                       NaN                         NaN  \n",
       "3      south beach/ LA / NC  Eastern Time (US & Canada)  \n",
       "4  Hillsborough, New Jersey  Eastern Time (US & Canada)  "
      ]
     },
     "execution_count": 56,
     "metadata": {},
     "output_type": "execute_result"
    }
   ],
   "source": [
    "dataset = pd.read_csv(r'D:\\screener_project\\ai\\lstm\\Tweets.csv')\n",
    "dataset = dataset.sample(frac=1).reset_index(drop=True)\n",
    "dataset.head()"
   ]
  },
  {
   "cell_type": "code",
   "execution_count": 57,
   "metadata": {},
   "outputs": [
    {
     "data": {
      "text/plain": [
       "(14640, 15)"
      ]
     },
     "execution_count": 57,
     "metadata": {},
     "output_type": "execute_result"
    }
   ],
   "source": [
    "dataset.shape"
   ]
  },
  {
   "cell_type": "code",
   "execution_count": 58,
   "metadata": {},
   "outputs": [
    {
     "data": {
      "text/html": [
       "<div>\n",
       "<style scoped>\n",
       "    .dataframe tbody tr th:only-of-type {\n",
       "        vertical-align: middle;\n",
       "    }\n",
       "\n",
       "    .dataframe tbody tr th {\n",
       "        vertical-align: top;\n",
       "    }\n",
       "\n",
       "    .dataframe thead th {\n",
       "        text-align: right;\n",
       "    }\n",
       "</style>\n",
       "<table border=\"1\" class=\"dataframe\">\n",
       "  <thead>\n",
       "    <tr style=\"text-align: right;\">\n",
       "      <th></th>\n",
       "      <th>airline_sentiment</th>\n",
       "      <th>text</th>\n",
       "    </tr>\n",
       "  </thead>\n",
       "  <tbody>\n",
       "    <tr>\n",
       "      <th>0</th>\n",
       "      <td>negative</td>\n",
       "      <td>@united haha that's fine. Still won't fly @uni...</td>\n",
       "    </tr>\n",
       "    <tr>\n",
       "      <th>1</th>\n",
       "      <td>negative</td>\n",
       "      <td>@USAirways since when does a maintenance probl...</td>\n",
       "    </tr>\n",
       "    <tr>\n",
       "      <th>2</th>\n",
       "      <td>neutral</td>\n",
       "      <td>@SouthwestAir Any chance there's a few seats o...</td>\n",
       "    </tr>\n",
       "    <tr>\n",
       "      <th>3</th>\n",
       "      <td>positive</td>\n",
       "      <td>@USAirways please keep Emily at you gso airpor...</td>\n",
       "    </tr>\n",
       "    <tr>\n",
       "      <th>4</th>\n",
       "      <td>negative</td>\n",
       "      <td>@USAirways i will be Cancelled Flighting my us...</td>\n",
       "    </tr>\n",
       "  </tbody>\n",
       "</table>\n",
       "</div>"
      ],
      "text/plain": [
       "  airline_sentiment                                               text\n",
       "0          negative  @united haha that's fine. Still won't fly @uni...\n",
       "1          negative  @USAirways since when does a maintenance probl...\n",
       "2           neutral  @SouthwestAir Any chance there's a few seats o...\n",
       "3          positive  @USAirways please keep Emily at you gso airpor...\n",
       "4          negative  @USAirways i will be Cancelled Flighting my us..."
      ]
     },
     "execution_count": 58,
     "metadata": {},
     "output_type": "execute_result"
    }
   ],
   "source": [
    "dataset = dataset[['airline_sentiment', 'text']]\n",
    "dataset.head()"
   ]
  },
  {
   "cell_type": "code",
   "execution_count": 59,
   "metadata": {},
   "outputs": [
    {
     "data": {
      "text/plain": [
       "<AxesSubplot:ylabel='Frequency'>"
      ]
     },
     "execution_count": 59,
     "metadata": {},
     "output_type": "execute_result"
    },
    {
     "data": {
      "image/png": "[encoded data removed]",
      "text/plain": [
       "<Figure size 432x288 with 1 Axes>"
      ]
     },
     "metadata": {
      "needs_background": "light"
     },
     "output_type": "display_data"
    }
   ],
   "source": [
    "%matplotlib inline\n",
    "dataset['text'].str.len().plot.hist()"
   ]
  },
  {
   "cell_type": "code",
   "execution_count": 60,
   "metadata": {},
   "outputs": [
    {
     "data": {
      "text/plain": [
       "negative    9178\n",
       "neutral     3099\n",
       "positive    2363\n",
       "Name: airline_sentiment, dtype: int64"
      ]
     },
     "execution_count": 60,
     "metadata": {},
     "output_type": "execute_result"
    }
   ],
   "source": [
    "dataset['airline_sentiment'].value_counts()"
   ]
  },
  {
   "cell_type": "code",
   "execution_count": 61,
   "metadata": {},
   "outputs": [
    {
     "data": {
      "text/plain": [
       "<AxesSubplot:>"
      ]
     },
     "execution_count": 61,
     "metadata": {},
     "output_type": "execute_result"
    },
    {
     "data": {
      "image/png": "[encoded data removed]",
      "text/plain": [
       "<Figure size 432x288 with 1 Axes>"
      ]
     },
     "metadata": {
      "needs_background": "light"
     },
     "output_type": "display_data"
    }
   ],
   "source": [
    "dataset['airline_sentiment'].value_counts().plot.bar()"
   ]
  },
  {
   "cell_type": "code",
   "execution_count": 62,
   "metadata": {},
   "outputs": [
    {
     "data": {
      "text/plain": [
       "0    united haha thats fine Still wont fly united e...\n",
       "1    USAirways since when does a maintenance proble...\n",
       "2    SouthwestAir Any chance theres a few seats ope...\n",
       "3    USAirways please keep Emily at you gso airport...\n",
       "4    USAirways i will be Cancelled Flighting my us ...\n",
       "Name: text, dtype: object"
      ]
     },
     "execution_count": 62,
     "metadata": {},
     "output_type": "execute_result"
    }
   ],
   "source": [
    "dataset['text'].apply(lambda x: x.lower())\n",
    "dataset['text'] = dataset['text'].apply(lambda x: re.sub('[^a-zA-Z0-9\\s]', \"\", x))\n",
    "dataset['text'].head()"
   ]
  },
  {
   "cell_type": "code",
   "execution_count": 63,
   "metadata": {},
   "outputs": [
    {
     "data": {
      "text/plain": [
       "array([[   0,    0,    0,    0,    0,    0,    0,    0,    0,    0,    0,\n",
       "           0,    0,    5,  883,  172,  714,   72,  211,  106,    5,  159,\n",
       "         103,  553,   95,    6,  104,   22,   99,  198,  157,  306,  554],\n",
       "       [   0,    0,    0,    0,    0,    0,    0,    0,    0,    0,   12,\n",
       "         225,   58,  207,    4,  581,  325,   10,  309,    8,  176, 3665,\n",
       "          77,  161,    1,  130,   48, 1784,  225,   38,   81, 1785, 1593],\n",
       "       [   0,    0,    0,    0,    0,    0,    0,    0,    0,    0,    0,\n",
       "           0,    0,    0,    0,    0,    0,    0,    0,   16,   94,  436,\n",
       "         473,    4,  520,  191,  370,   33,  691,    1, 1427,   29,  861],\n",
       "       [   0,    0,    0,    0,    0,    0,    0,    0,    0,    0,    0,\n",
       "           0,    0,    0,    0,    0,    0,    0,    0,    0,   12,   73,\n",
       "         274,   27,    6, 3666,  110, 2718,    9,  208,  185,   14,  349],\n",
       "       [   0,    0,    0,    0,    0,    0,    0,    0,    0,    0,    0,\n",
       "           0,    0,   12,    3,   49,   32,   37,  674,   11,   55,  396,\n",
       "         299,  412,   10, 2455,  193,  240,   90,   11,  197,   29,  301],\n",
       "       [   0,    0,    0,    0,    0,    0,    0,    0,    0,    0,    0,\n",
       "           0,    0,    0,   17,  729,   19,    4, 1914, 1001,    7, 1915,\n",
       "         191, 1369,  495,    7,   11, 1916,   61,    3,  218,  291,   38],\n",
       "       [   0,    0,    0,    0,    0,    0,    0,    0,    0,    0,    0,\n",
       "           0,    0,    0,    0,   16,    3,   49,   65,    6,   34,  152,\n",
       "          82, 1025,   51,   11, 1508,   15, 3667,    1,    2, 3092,   36]])"
      ]
     },
     "execution_count": 63,
     "metadata": {},
     "output_type": "execute_result"
    }
   ],
   "source": [
    "tokenizer = Tokenizer(num_words=5000, split=\" \")\n",
    "tokenizer.fit_on_texts(dataset['text'].values)\n",
    "\n",
    "X = tokenizer.texts_to_sequences(dataset['text'].values)\n",
    "X = pad_sequences(X)\n",
    "X[:7]"
   ]
  },
  {
   "cell_type": "code",
   "execution_count": 64,
   "metadata": {},
   "outputs": [],
   "source": [
    "model = Sequential()\n",
    "model.add(Embedding(5000, 256, input_length = X.shape[1]))\n",
    "model.add(Dropout(0.3))\n",
    "model.add(LSTM(256, return_sequences=True, dropout = 0.3, recurrent_dropout=0.2))\n",
    "model.add(LSTM(256, dropout = 0.3, recurrent_dropout = 0.2))\n",
    "model.add(Dense(3, activation = 'softmax'))\n"
   ]
  },
  {
   "cell_type": "code",
   "execution_count": 65,
   "metadata": {},
   "outputs": [
    {
     "name": "stdout",
     "output_type": "stream",
     "text": [
      "Model: \"sequential_4\"\n",
      "_________________________________________________________________\n",
      "Layer (type)                 Output Shape              Param #   \n",
      "=================================================================\n",
      "embedding_4 (Embedding)      (None, 33, 256)           1280000   \n",
      "_________________________________________________________________\n",
      "dropout_4 (Dropout)          (None, 33, 256)           0         \n",
      "_________________________________________________________________\n",
      "lstm_6 (LSTM)                (None, 33, 256)           525312    \n",
      "_________________________________________________________________\n",
      "lstm_7 (LSTM)                (None, 256)               525312    \n",
      "_________________________________________________________________\n",
      "dense_3 (Dense)              (None, 3)                 771       \n",
      "=================================================================\n",
      "Total params: 2,331,395\n",
      "Trainable params: 2,331,395\n",
      "Non-trainable params: 0\n",
      "_________________________________________________________________\n"
     ]
    }
   ],
   "source": [
    "model.compile(loss= 'categorical_crossentropy', optimizer='adam', metrics=['accuracy'])\n",
    "model.summary()"
   ]
  },
  {
   "cell_type": "code",
   "execution_count": 66,
   "metadata": {},
   "outputs": [
    {
     "name": "stdout",
     "output_type": "stream",
     "text": [
      "negative [1 0 0]\n",
      "negative [1 0 0]\n",
      "neutral [0 1 0]\n",
      "positive [0 0 1]\n",
      "negative [1 0 0]\n",
      "positive [0 0 1]\n",
      "neutral [0 1 0]\n"
     ]
    },
    {
     "data": {
      "text/plain": [
       "[None, None, None, None, None, None, None]"
      ]
     },
     "execution_count": 66,
     "metadata": {},
     "output_type": "execute_result"
    }
   ],
   "source": [
    "y = pd.get_dummies(dataset['airline_sentiment']).values\n",
    "[print(dataset['airline_sentiment'][i], y[i]) for i in range(0,7)]"
   ]
  },
  {
   "cell_type": "code",
   "execution_count": 67,
   "metadata": {},
   "outputs": [],
   "source": [
    "X_train, X_test, y_train, y_test = train_test_split(X,y, test_size=0.2, random_state=0) "
   ]
  },
  {
   "cell_type": "code",
   "execution_count": 68,
   "metadata": {},
   "outputs": [
    {
     "name": "stdout",
     "output_type": "stream",
     "text": [
      "Epoch 1/10\n",
      "366/366 - 86s - loss: 0.6476 - accuracy: 0.7300\n",
      "Epoch 2/10\n",
      "366/366 - 85s - loss: 0.4370 - accuracy: 0.8285\n",
      "Epoch 3/10\n",
      "366/366 - 86s - loss: 0.3458 - accuracy: 0.8701\n",
      "Epoch 4/10\n",
      "366/366 - 86s - loss: 0.2823 - accuracy: 0.8955\n",
      "Epoch 5/10\n",
      "366/366 - 86s - loss: 0.2370 - accuracy: 0.9144\n",
      "Epoch 6/10\n",
      "366/366 - 87s - loss: 0.1911 - accuracy: 0.9279\n",
      "Epoch 7/10\n",
      "366/366 - 86s - loss: 0.1598 - accuracy: 0.9395\n",
      "Epoch 8/10\n",
      "366/366 - 87s - loss: 0.1377 - accuracy: 0.9495\n",
      "Epoch 9/10\n",
      "366/366 - 86s - loss: 0.1241 - accuracy: 0.9546\n",
      "Epoch 10/10\n",
      "366/366 - 87s - loss: 0.1067 - accuracy: 0.9614\n"
     ]
    },
    {
     "data": {
      "text/plain": [
       "<tensorflow.python.keras.callbacks.History at 0x20349295a00>"
      ]
     },
     "execution_count": 68,
     "metadata": {},
     "output_type": "execute_result"
    }
   ],
   "source": [
    "batch_size = 32\n",
    "epochs = 10\n",
    "model.fit(X_train, y_train, epochs = epochs, batch_size = batch_size, verbose=2)"
   ]
  },
  {
   "cell_type": "code",
   "execution_count": null,
   "metadata": {},
   "outputs": [],
   "source": []
  }
 ],
 "metadata": {
  "kernelspec": {
   "display_name": "Python 3",
   "language": "python",
   "name": "python3"
  },
  "language_info": {
   "codemirror_mode": {
    "name": "ipython",
    "version": 3
   },
   "file_extension": ".py",
   "mimetype": "text/x-python",
   "name": "python",
   "nbconvert_exporter": "python",
   "pygments_lexer": "ipython3",
   "version": "3.8.5"
  }
 },
 "nbformat": 4,
 "nbformat_minor": 4
}
