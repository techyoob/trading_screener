{
 "cells": [
  {
   "cell_type": "code",
   "execution_count": 65,
   "metadata": {},
   "outputs": [],
   "source": [
    "import numpy as np\n",
    "import matplotlib.pyplot as plt\n",
    "%matplotlib inline\n",
    "import pandas as pd\n",
    "from sklearn.preprocessing import MinMaxScaler\n",
    "plt.style.use('ggplot')\n",
    "\n",
    "from tensorflow.keras.models import Sequential\n",
    "from tensorflow.keras.layers import LSTM,Dense, Dropout\n",
    "\n",
    "\n",
    "\n",
    "\n",
    "import requests\n",
    "import json"
   ]
  },
  {
   "cell_type": "code",
   "execution_count": 66,
   "metadata": {
    "scrolled": true
   },
   "outputs": [
    {
     "data": {
      "text/html": [
       "<div>\n",
       "<style scoped>\n",
       "    .dataframe tbody tr th:only-of-type {\n",
       "        vertical-align: middle;\n",
       "    }\n",
       "\n",
       "    .dataframe tbody tr th {\n",
       "        vertical-align: top;\n",
       "    }\n",
       "\n",
       "    .dataframe thead th {\n",
       "        text-align: right;\n",
       "    }\n",
       "</style>\n",
       "<table border=\"1\" class=\"dataframe\">\n",
       "  <thead>\n",
       "    <tr style=\"text-align: right;\">\n",
       "      <th></th>\n",
       "      <th>date</th>\n",
       "      <th>open</th>\n",
       "      <th>high</th>\n",
       "      <th>low</th>\n",
       "      <th>close</th>\n",
       "      <th>adjClose</th>\n",
       "      <th>volume</th>\n",
       "      <th>unadjustedVolume</th>\n",
       "      <th>change</th>\n",
       "      <th>changePercent</th>\n",
       "      <th>vwap</th>\n",
       "      <th>label</th>\n",
       "      <th>changeOverTime</th>\n",
       "    </tr>\n",
       "  </thead>\n",
       "  <tbody>\n",
       "    <tr>\n",
       "      <th>1253</th>\n",
       "      <td>2021-03-30</td>\n",
       "      <td>120.110001</td>\n",
       "      <td>120.400002</td>\n",
       "      <td>118.860001</td>\n",
       "      <td>119.900002</td>\n",
       "      <td>119.900002</td>\n",
       "      <td>85671900.0</td>\n",
       "      <td>85671900.0</td>\n",
       "      <td>-0.21</td>\n",
       "      <td>-0.175</td>\n",
       "      <td>119.72000</td>\n",
       "      <td>March 30, 21</td>\n",
       "      <td>-0.00175</td>\n",
       "    </tr>\n",
       "    <tr>\n",
       "      <th>1254</th>\n",
       "      <td>2021-03-31</td>\n",
       "      <td>121.650002</td>\n",
       "      <td>123.519997</td>\n",
       "      <td>121.150002</td>\n",
       "      <td>122.150002</td>\n",
       "      <td>122.150002</td>\n",
       "      <td>118323800.0</td>\n",
       "      <td>118323800.0</td>\n",
       "      <td>0.50</td>\n",
       "      <td>0.411</td>\n",
       "      <td>122.27333</td>\n",
       "      <td>March 31, 21</td>\n",
       "      <td>0.00411</td>\n",
       "    </tr>\n",
       "    <tr>\n",
       "      <th>1255</th>\n",
       "      <td>2021-04-01</td>\n",
       "      <td>123.660004</td>\n",
       "      <td>124.180000</td>\n",
       "      <td>122.489998</td>\n",
       "      <td>123.000000</td>\n",
       "      <td>123.000000</td>\n",
       "      <td>75089100.0</td>\n",
       "      <td>75089100.0</td>\n",
       "      <td>-0.66</td>\n",
       "      <td>-0.534</td>\n",
       "      <td>123.22333</td>\n",
       "      <td>April 01, 21</td>\n",
       "      <td>-0.00534</td>\n",
       "    </tr>\n",
       "    <tr>\n",
       "      <th>1256</th>\n",
       "      <td>2021-04-05</td>\n",
       "      <td>123.870003</td>\n",
       "      <td>126.160004</td>\n",
       "      <td>123.070000</td>\n",
       "      <td>125.900002</td>\n",
       "      <td>125.900002</td>\n",
       "      <td>88395400.0</td>\n",
       "      <td>88395400.0</td>\n",
       "      <td>2.03</td>\n",
       "      <td>1.639</td>\n",
       "      <td>125.04334</td>\n",
       "      <td>April 05, 21</td>\n",
       "      <td>0.01639</td>\n",
       "    </tr>\n",
       "    <tr>\n",
       "      <th>1257</th>\n",
       "      <td>2021-04-06</td>\n",
       "      <td>126.500000</td>\n",
       "      <td>127.129997</td>\n",
       "      <td>125.650002</td>\n",
       "      <td>126.209999</td>\n",
       "      <td>126.209999</td>\n",
       "      <td>80171253.0</td>\n",
       "      <td>80171253.0</td>\n",
       "      <td>-0.29</td>\n",
       "      <td>-0.229</td>\n",
       "      <td>126.33000</td>\n",
       "      <td>April 06, 21</td>\n",
       "      <td>-0.00229</td>\n",
       "    </tr>\n",
       "  </tbody>\n",
       "</table>\n",
       "</div>"
      ],
      "text/plain": [
       "            date        open        high         low       close    adjClose  \\\n",
       "1253  2021-03-30  120.110001  120.400002  118.860001  119.900002  119.900002   \n",
       "1254  2021-03-31  121.650002  123.519997  121.150002  122.150002  122.150002   \n",
       "1255  2021-04-01  123.660004  124.180000  122.489998  123.000000  123.000000   \n",
       "1256  2021-04-05  123.870003  126.160004  123.070000  125.900002  125.900002   \n",
       "1257  2021-04-06  126.500000  127.129997  125.650002  126.209999  126.209999   \n",
       "\n",
       "           volume  unadjustedVolume  change  changePercent       vwap  \\\n",
       "1253   85671900.0        85671900.0   -0.21         -0.175  119.72000   \n",
       "1254  118323800.0       118323800.0    0.50          0.411  122.27333   \n",
       "1255   75089100.0        75089100.0   -0.66         -0.534  123.22333   \n",
       "1256   88395400.0        88395400.0    2.03          1.639  125.04334   \n",
       "1257   80171253.0        80171253.0   -0.29         -0.229  126.33000   \n",
       "\n",
       "             label  changeOverTime  \n",
       "1253  March 30, 21        -0.00175  \n",
       "1254  March 31, 21         0.00411  \n",
       "1255  April 01, 21        -0.00534  \n",
       "1256  April 05, 21         0.01639  \n",
       "1257  April 06, 21        -0.00229  "
      ]
     },
     "execution_count": 66,
     "metadata": {},
     "output_type": "execute_result"
    }
   ],
   "source": [
    "#df = pd.read_csv(r'D:\\screener_project\\ai_bots\\lstm_predictor\\BTC-USD.csv')\n",
    "#df.tail()\n",
    "\n",
    "\n",
    "tickerHistoryResponse = requests.get(\"https://financialmodelingprep.com/api/v3/\"+\"historical-price-full/\"+\"AAPL\"+\"?apikey=\"+\"56e431b750c849dd5d42c5c0443186fc\")\n",
    "dailyHistory=tickerHistoryResponse.json()['historical'][::-1]\n",
    "df = pd.DataFrame(dailyHistory)\n",
    "df.tail()\n",
    "\n"
   ]
  },
  {
   "cell_type": "code",
   "execution_count": 67,
   "metadata": {
    "scrolled": true
   },
   "outputs": [
    {
     "name": "stdout",
     "output_type": "stream",
     "text": [
      "done\n"
     ]
    }
   ],
   "source": [
    "df = df.set_index(\"date\")[['open']].tail(1000)\n",
    "df = df.set_index(pd.to_datetime(df.index))\n",
    "\n",
    "df.head()\n",
    "print('done')"
   ]
  },
  {
   "cell_type": "code",
   "execution_count": 68,
   "metadata": {
    "scrolled": true
   },
   "outputs": [
    {
     "data": {
      "text/html": [
       "<div>\n",
       "<style scoped>\n",
       "    .dataframe tbody tr th:only-of-type {\n",
       "        vertical-align: middle;\n",
       "    }\n",
       "\n",
       "    .dataframe tbody tr th {\n",
       "        vertical-align: top;\n",
       "    }\n",
       "\n",
       "    .dataframe thead th {\n",
       "        text-align: right;\n",
       "    }\n",
       "</style>\n",
       "<table border=\"1\" class=\"dataframe\">\n",
       "  <thead>\n",
       "    <tr style=\"text-align: right;\">\n",
       "      <th></th>\n",
       "      <th>open</th>\n",
       "    </tr>\n",
       "    <tr>\n",
       "      <th>date</th>\n",
       "      <th></th>\n",
       "    </tr>\n",
       "  </thead>\n",
       "  <tbody>\n",
       "    <tr>\n",
       "      <th>2017-04-17</th>\n",
       "      <td>0.000600</td>\n",
       "    </tr>\n",
       "    <tr>\n",
       "      <th>2017-04-18</th>\n",
       "      <td>0.000439</td>\n",
       "    </tr>\n",
       "    <tr>\n",
       "      <th>2017-04-19</th>\n",
       "      <td>0.001524</td>\n",
       "    </tr>\n",
       "    <tr>\n",
       "      <th>2017-04-20</th>\n",
       "      <td>0.000000</td>\n",
       "    </tr>\n",
       "    <tr>\n",
       "      <th>2017-04-21</th>\n",
       "      <td>0.002816</td>\n",
       "    </tr>\n",
       "  </tbody>\n",
       "</table>\n",
       "</div>"
      ],
      "text/plain": [
       "                open\n",
       "date                \n",
       "2017-04-17  0.000600\n",
       "2017-04-18  0.000439\n",
       "2017-04-19  0.001524\n",
       "2017-04-20  0.000000\n",
       "2017-04-21  0.002816"
      ]
     },
     "execution_count": 68,
     "metadata": {},
     "output_type": "execute_result"
    }
   ],
   "source": [
    "scaler = MinMaxScaler()\n",
    "df = pd.DataFrame(scaler.fit_transform(df), columns =df.columns, index=df.index)\n",
    "df.head()"
   ]
  },
  {
   "cell_type": "code",
   "execution_count": 69,
   "metadata": {},
   "outputs": [
    {
     "name": "stdout",
     "output_type": "stream",
     "text": [
      "done\n"
     ]
    },
    {
     "data": {
      "image/png": "[encoded data removed]",
      "text/plain": [
       "<Figure size 1008x576 with 1 Axes>"
      ]
     },
     "metadata": {},
     "output_type": "display_data"
    }
   ],
   "source": [
    "print('done')\n",
    "df.plot(figsize=(14,8))\n",
    "plt.title('aapl prices')\n",
    "plt.ylabel('normalized prices')\n",
    "plt.show()"
   ]
  },
  {
   "cell_type": "code",
   "execution_count": 70,
   "metadata": {},
   "outputs": [],
   "source": [
    "def split_sequences(seq, n_steps_in, n_steps_out):\n",
    "    X,y =[], []\n",
    "    \n",
    "    for i in range(len(seq)):\n",
    "        end = i+n_steps_in\n",
    "        out_end = end+ n_steps_out\n",
    "        \n",
    "        if out_end >len(seq):\n",
    "            break\n",
    "            \n",
    "        seq_x, seq_y = seq[i:end], seq[end:out_end]\n",
    "        \n",
    "        X.append(seq_x)\n",
    "        y.append(seq_y)\n",
    "    \n",
    "    return np.array(X), np.array(y)"
   ]
  },
  {
   "cell_type": "code",
   "execution_count": 71,
   "metadata": {},
   "outputs": [],
   "source": [
    "def visualize_results(results):\n",
    "    history = results.history\n",
    "    plt.figure(figsize=(12,4))\n",
    "    plt.plot(history['val_loss'])\n",
    "    plt.plot(history['loss'])\n",
    "    plt.legend(['val_loss','loss'])\n",
    "    plt.title('Loss')\n",
    "    plt.xlabel('epochs')\n",
    "    plt.ylabel('loss')\n",
    "    plt.show()\n",
    "    \n",
    "    plt.figure(figsize=(12,4))\n",
    "    plt.plot(history['val_accuracy'])\n",
    "    plt.plot(history['accuracy'])\n",
    "    plt.legend(['val_accuracy','accuracy'])\n",
    "    plt.title('Accuracy')\n",
    "    plt.xlabel('epochs')\n",
    "    plt.ylabel('accuracy')\n",
    "    plt.show()"
   ]
  },
  {
   "cell_type": "code",
   "execution_count": 72,
   "metadata": {
    "scrolled": true
   },
   "outputs": [
    {
     "name": "stdout",
     "output_type": "stream",
     "text": [
      "(970, 30)\n",
      "(970, 30, 1)\n",
      "(970, 1)\n"
     ]
    }
   ],
   "source": [
    "n_per_in = 30\n",
    "n_per_out = 1\n",
    "\n",
    "n_features = 1\n",
    "\n",
    "X,y = split_sequences(list(df.open), n_per_in,n_per_out)\n",
    "\n",
    "print(X.shape)\n",
    "\n",
    "X = X.reshape(X.shape[0],X.shape[1],n_features)\n",
    "\n",
    "print(X.shape)\n",
    "print(y.shape)"
   ]
  },
  {
   "cell_type": "code",
   "execution_count": 73,
   "metadata": {
    "scrolled": true
   },
   "outputs": [
    {
     "name": "stdout",
     "output_type": "stream",
     "text": [
      "Model: \"sequential_4\"\n",
      "_________________________________________________________________\n",
      "Layer (type)                 Output Shape              Param #   \n",
      "=================================================================\n",
      "lstm_24 (LSTM)               (None, 30, 40)            6720      \n",
      "_________________________________________________________________\n",
      "lstm_25 (LSTM)               (None, 30, 15)            3360      \n",
      "_________________________________________________________________\n",
      "lstm_26 (LSTM)               (None, 30, 15)            1860      \n",
      "_________________________________________________________________\n",
      "lstm_27 (LSTM)               (None, 30, 15)            1860      \n",
      "_________________________________________________________________\n",
      "lstm_28 (LSTM)               (None, 30, 15)            1860      \n",
      "_________________________________________________________________\n",
      "lstm_29 (LSTM)               (None, 15)                1860      \n",
      "_________________________________________________________________\n",
      "dense_4 (Dense)              (None, 1)                 16        \n",
      "=================================================================\n",
      "Total params: 17,536\n",
      "Trainable params: 17,536\n",
      "Non-trainable params: 0\n",
      "_________________________________________________________________\n"
     ]
    }
   ],
   "source": [
    "model = Sequential()\n",
    "model.add(LSTM(40, activation='softsign', return_sequences=True, input_shape=(n_per_in,n_features)))\n",
    "model.add(LSTM(15, activation='softsign', return_sequences=True))\n",
    "model.add(LSTM(15, activation='softsign', return_sequences=True))\n",
    "model.add(LSTM(15, activation='softsign', return_sequences=True))\n",
    "model.add(LSTM(15, activation='softsign', return_sequences=True))\n",
    "model.add(LSTM(15, activation='softsign'))\n",
    "model.add(Dense(n_per_out))\n",
    "\n",
    "model.summary()"
   ]
  },
  {
   "cell_type": "code",
   "execution_count": 74,
   "metadata": {},
   "outputs": [],
   "source": [
    "model.compile(optimizer='adam',loss='mse', metrics=['accuracy'])"
   ]
  },
  {
   "cell_type": "code",
   "execution_count": 75,
   "metadata": {},
   "outputs": [
    {
     "name": "stdout",
     "output_type": "stream",
     "text": [
      "Epoch 1/120\n",
      "28/28 [==============================] - 6s 43ms/step - loss: 0.0482 - accuracy: 0.0000e+00 - val_loss: 0.3117 - val_accuracy: 0.0000e+00\n",
      "Epoch 2/120\n",
      "28/28 [==============================] - 1s 23ms/step - loss: 0.0227 - accuracy: 0.0000e+00 - val_loss: 0.0499 - val_accuracy: 0.0103\n",
      "Epoch 3/120\n",
      "28/28 [==============================] - 1s 23ms/step - loss: 0.0038 - accuracy: 0.0000e+00 - val_loss: 0.0062 - val_accuracy: 0.0103\n",
      "Epoch 4/120\n",
      "28/28 [==============================] - 1s 23ms/step - loss: 0.0024 - accuracy: 0.0000e+00 - val_loss: 0.0067 - val_accuracy: 0.0103\n",
      "Epoch 5/120\n",
      "28/28 [==============================] - 1s 23ms/step - loss: 0.0023 - accuracy: 0.0000e+00 - val_loss: 0.0106 - val_accuracy: 0.0103\n",
      "Epoch 6/120\n",
      "28/28 [==============================] - 1s 23ms/step - loss: 0.0020 - accuracy: 0.0000e+00 - val_loss: 0.0065 - val_accuracy: 0.0103\n",
      "Epoch 7/120\n",
      "28/28 [==============================] - 1s 23ms/step - loss: 0.0021 - accuracy: 0.0000e+00 - val_loss: 0.0054 - val_accuracy: 0.0103\n",
      "Epoch 8/120\n",
      "28/28 [==============================] - 1s 23ms/step - loss: 0.0022 - accuracy: 0.0000e+00 - val_loss: 0.0044 - val_accuracy: 0.0103\n",
      "Epoch 9/120\n",
      "28/28 [==============================] - 1s 23ms/step - loss: 0.0018 - accuracy: 0.0000e+00 - val_loss: 0.0068 - val_accuracy: 0.0103\n",
      "Epoch 10/120\n",
      "28/28 [==============================] - 1s 23ms/step - loss: 0.0017 - accuracy: 0.0000e+00 - val_loss: 0.0079 - val_accuracy: 0.0103\n",
      "Epoch 11/120\n",
      "28/28 [==============================] - 1s 23ms/step - loss: 0.0020 - accuracy: 0.0000e+00 - val_loss: 0.0055 - val_accuracy: 0.0103\n",
      "Epoch 12/120\n",
      "28/28 [==============================] - 1s 23ms/step - loss: 0.0016 - accuracy: 0.0000e+00 - val_loss: 0.0054 - val_accuracy: 0.0103\n",
      "Epoch 13/120\n",
      "28/28 [==============================] - 1s 23ms/step - loss: 0.0015 - accuracy: 0.0000e+00 - val_loss: 0.0056 - val_accuracy: 0.0103\n",
      "Epoch 14/120\n",
      "28/28 [==============================] - 1s 23ms/step - loss: 0.0016 - accuracy: 0.0000e+00 - val_loss: 0.0053 - val_accuracy: 0.0103\n",
      "Epoch 15/120\n",
      "28/28 [==============================] - 1s 23ms/step - loss: 0.0013 - accuracy: 0.0000e+00 - val_loss: 0.0078 - val_accuracy: 0.0103\n",
      "Epoch 16/120\n",
      "28/28 [==============================] - 1s 23ms/step - loss: 0.0015 - accuracy: 0.0000e+00 - val_loss: 0.0046 - val_accuracy: 0.0103\n",
      "Epoch 17/120\n",
      "28/28 [==============================] - 1s 23ms/step - loss: 0.0015 - accuracy: 0.0000e+00 - val_loss: 0.0058 - val_accuracy: 0.0103\n",
      "Epoch 18/120\n",
      "28/28 [==============================] - 1s 23ms/step - loss: 0.0016 - accuracy: 0.0000e+00 - val_loss: 0.0038 - val_accuracy: 0.0103\n",
      "Epoch 19/120\n",
      "28/28 [==============================] - 1s 23ms/step - loss: 0.0014 - accuracy: 0.0000e+00 - val_loss: 0.0068 - val_accuracy: 0.0103\n",
      "Epoch 20/120\n",
      "28/28 [==============================] - 1s 23ms/step - loss: 0.0014 - accuracy: 0.0000e+00 - val_loss: 0.0089 - val_accuracy: 0.0103\n",
      "Epoch 21/120\n",
      "28/28 [==============================] - 1s 23ms/step - loss: 0.0012 - accuracy: 0.0000e+00 - val_loss: 0.0072 - val_accuracy: 0.0103\n",
      "Epoch 22/120\n",
      "28/28 [==============================] - 1s 23ms/step - loss: 0.0012 - accuracy: 0.0000e+00 - val_loss: 0.0044 - val_accuracy: 0.0103\n",
      "Epoch 23/120\n",
      "28/28 [==============================] - 1s 23ms/step - loss: 0.0011 - accuracy: 0.0000e+00 - val_loss: 0.0062 - val_accuracy: 0.0103\n",
      "Epoch 24/120\n",
      "28/28 [==============================] - 1s 23ms/step - loss: 0.0012 - accuracy: 0.0000e+00 - val_loss: 0.0036 - val_accuracy: 0.0103\n",
      "Epoch 25/120\n",
      "28/28 [==============================] - 1s 23ms/step - loss: 0.0014 - accuracy: 0.0000e+00 - val_loss: 0.0072 - val_accuracy: 0.0103\n",
      "Epoch 26/120\n",
      "28/28 [==============================] - 1s 23ms/step - loss: 0.0013 - accuracy: 0.0000e+00 - val_loss: 0.0083 - val_accuracy: 0.0103\n",
      "Epoch 27/120\n",
      "28/28 [==============================] - 1s 23ms/step - loss: 0.0012 - accuracy: 0.0000e+00 - val_loss: 0.0066 - val_accuracy: 0.0103\n",
      "Epoch 28/120\n",
      "28/28 [==============================] - 1s 23ms/step - loss: 0.0012 - accuracy: 0.0000e+00 - val_loss: 0.0065 - val_accuracy: 0.0103\n",
      "Epoch 29/120\n",
      "28/28 [==============================] - 1s 23ms/step - loss: 0.0011 - accuracy: 0.0000e+00 - val_loss: 0.0158 - val_accuracy: 0.0103\n",
      "Epoch 30/120\n",
      "28/28 [==============================] - 1s 23ms/step - loss: 9.8921e-04 - accuracy: 0.0000e+00 - val_loss: 0.0105 - val_accuracy: 0.0103\n",
      "Epoch 31/120\n",
      "28/28 [==============================] - 1s 23ms/step - loss: 0.0011 - accuracy: 0.0000e+00 - val_loss: 0.0086 - val_accuracy: 0.0103\n",
      "Epoch 32/120\n",
      "28/28 [==============================] - 1s 24ms/step - loss: 9.5271e-04 - accuracy: 0.0000e+00 - val_loss: 0.0082 - val_accuracy: 0.0103\n",
      "Epoch 33/120\n",
      "28/28 [==============================] - 1s 23ms/step - loss: 9.5155e-04 - accuracy: 0.0000e+00 - val_loss: 0.0077 - val_accuracy: 0.0103\n",
      "Epoch 34/120\n",
      "28/28 [==============================] - 1s 23ms/step - loss: 9.9660e-04 - accuracy: 0.0000e+00 - val_loss: 0.0067 - val_accuracy: 0.0103\n",
      "Epoch 35/120\n",
      "28/28 [==============================] - 1s 23ms/step - loss: 0.0012 - accuracy: 0.0000e+00 - val_loss: 0.0137 - val_accuracy: 0.0103\n",
      "Epoch 36/120\n",
      "28/28 [==============================] - 1s 23ms/step - loss: 8.6232e-04 - accuracy: 0.0000e+00 - val_loss: 0.0118 - val_accuracy: 0.0103\n",
      "Epoch 37/120\n",
      "28/28 [==============================] - 1s 23ms/step - loss: 8.2489e-04 - accuracy: 0.0000e+00 - val_loss: 0.0193 - val_accuracy: 0.0103\n",
      "Epoch 38/120\n",
      "28/28 [==============================] - 1s 23ms/step - loss: 0.0011 - accuracy: 0.0000e+00 - val_loss: 0.0237 - val_accuracy: 0.0103\n",
      "Epoch 39/120\n",
      "28/28 [==============================] - 1s 23ms/step - loss: 8.2090e-04 - accuracy: 0.0000e+00 - val_loss: 0.0187 - val_accuracy: 0.0103\n",
      "Epoch 40/120\n",
      "28/28 [==============================] - 1s 23ms/step - loss: 8.3622e-04 - accuracy: 0.0000e+00 - val_loss: 0.0139 - val_accuracy: 0.0103\n",
      "Epoch 41/120\n",
      "28/28 [==============================] - 1s 23ms/step - loss: 9.0337e-04 - accuracy: 0.0000e+00 - val_loss: 0.0055 - val_accuracy: 0.0103\n",
      "Epoch 42/120\n",
      "28/28 [==============================] - 1s 23ms/step - loss: 9.1864e-04 - accuracy: 0.0000e+00 - val_loss: 0.0108 - val_accuracy: 0.0103\n",
      "Epoch 43/120\n",
      "28/28 [==============================] - 1s 23ms/step - loss: 8.7807e-04 - accuracy: 0.0000e+00 - val_loss: 0.0136 - val_accuracy: 0.0103\n",
      "Epoch 44/120\n",
      "28/28 [==============================] - 1s 23ms/step - loss: 7.1216e-04 - accuracy: 0.0000e+00 - val_loss: 0.0068 - val_accuracy: 0.0103\n",
      "Epoch 45/120\n",
      "28/28 [==============================] - 1s 23ms/step - loss: 8.7932e-04 - accuracy: 0.0000e+00 - val_loss: 0.0086 - val_accuracy: 0.0103\n",
      "Epoch 46/120\n",
      "28/28 [==============================] - 1s 23ms/step - loss: 0.0010 - accuracy: 0.0000e+00 - val_loss: 0.0138 - val_accuracy: 0.0103\n",
      "Epoch 47/120\n",
      "28/28 [==============================] - 1s 23ms/step - loss: 7.3388e-04 - accuracy: 0.0000e+00 - val_loss: 0.0178 - val_accuracy: 0.0103\n",
      "Epoch 48/120\n",
      "28/28 [==============================] - 1s 23ms/step - loss: 7.1411e-04 - accuracy: 0.0000e+00 - val_loss: 0.0150 - val_accuracy: 0.0103\n",
      "Epoch 49/120\n",
      "28/28 [==============================] - 1s 23ms/step - loss: 8.0528e-04 - accuracy: 0.0000e+00 - val_loss: 0.0205 - val_accuracy: 0.0103\n",
      "Epoch 50/120\n",
      "28/28 [==============================] - 1s 23ms/step - loss: 6.0674e-04 - accuracy: 0.0000e+00 - val_loss: 0.0159 - val_accuracy: 0.0103\n",
      "Epoch 51/120\n",
      "28/28 [==============================] - 1s 23ms/step - loss: 5.9320e-04 - accuracy: 0.0000e+00 - val_loss: 0.0226 - val_accuracy: 0.0103\n",
      "Epoch 52/120\n",
      "28/28 [==============================] - 1s 23ms/step - loss: 8.6553e-04 - accuracy: 0.0000e+00 - val_loss: 0.0256 - val_accuracy: 0.0103\n",
      "Epoch 53/120\n",
      "28/28 [==============================] - 1s 23ms/step - loss: 6.9274e-04 - accuracy: 0.0000e+00 - val_loss: 0.0167 - val_accuracy: 0.0103\n",
      "Epoch 54/120\n",
      "28/28 [==============================] - 1s 23ms/step - loss: 8.3900e-04 - accuracy: 0.0000e+00 - val_loss: 0.0121 - val_accuracy: 0.0103\n",
      "Epoch 55/120\n",
      "28/28 [==============================] - 1s 23ms/step - loss: 8.9907e-04 - accuracy: 0.0000e+00 - val_loss: 0.0236 - val_accuracy: 0.0103\n",
      "Epoch 56/120\n",
      "28/28 [==============================] - 1s 23ms/step - loss: 7.3523e-04 - accuracy: 0.0000e+00 - val_loss: 0.0212 - val_accuracy: 0.0103\n",
      "Epoch 57/120\n",
      "28/28 [==============================] - 1s 23ms/step - loss: 7.2521e-04 - accuracy: 0.0000e+00 - val_loss: 0.0107 - val_accuracy: 0.0103\n",
      "Epoch 58/120\n",
      "28/28 [==============================] - 1s 23ms/step - loss: 6.0612e-04 - accuracy: 0.0000e+00 - val_loss: 0.0251 - val_accuracy: 0.0103\n",
      "Epoch 59/120\n",
      "28/28 [==============================] - 1s 23ms/step - loss: 6.1939e-04 - accuracy: 0.0000e+00 - val_loss: 0.0194 - val_accuracy: 0.0103\n",
      "Epoch 60/120\n",
      "28/28 [==============================] - 1s 23ms/step - loss: 5.9008e-04 - accuracy: 0.0000e+00 - val_loss: 0.0222 - val_accuracy: 0.0103\n",
      "Epoch 61/120\n",
      "28/28 [==============================] - 1s 23ms/step - loss: 6.1553e-04 - accuracy: 0.0000e+00 - val_loss: 0.0230 - val_accuracy: 0.0103\n",
      "Epoch 62/120\n",
      "28/28 [==============================] - 1s 23ms/step - loss: 6.3881e-04 - accuracy: 0.0000e+00 - val_loss: 0.0150 - val_accuracy: 0.0103\n",
      "Epoch 63/120\n",
      "28/28 [==============================] - 1s 23ms/step - loss: 6.2299e-04 - accuracy: 0.0000e+00 - val_loss: 0.0124 - val_accuracy: 0.0103\n",
      "Epoch 64/120\n",
      "28/28 [==============================] - 1s 23ms/step - loss: 7.2907e-04 - accuracy: 0.0000e+00 - val_loss: 0.0244 - val_accuracy: 0.0103\n",
      "Epoch 65/120\n",
      "28/28 [==============================] - 1s 24ms/step - loss: 6.4984e-04 - accuracy: 0.0000e+00 - val_loss: 0.0228 - val_accuracy: 0.0103\n",
      "Epoch 66/120\n",
      "28/28 [==============================] - 1s 23ms/step - loss: 6.9621e-04 - accuracy: 0.0000e+00 - val_loss: 0.0208 - val_accuracy: 0.0103\n",
      "Epoch 67/120\n",
      "28/28 [==============================] - 1s 23ms/step - loss: 5.6907e-04 - accuracy: 0.0000e+00 - val_loss: 0.0191 - val_accuracy: 0.0103\n",
      "Epoch 68/120\n",
      "28/28 [==============================] - 1s 23ms/step - loss: 6.9957e-04 - accuracy: 0.0000e+00 - val_loss: 0.0302 - val_accuracy: 0.0103\n",
      "Epoch 69/120\n",
      "28/28 [==============================] - 1s 23ms/step - loss: 6.4006e-04 - accuracy: 0.0000e+00 - val_loss: 0.0191 - val_accuracy: 0.0103\n",
      "Epoch 70/120\n",
      "28/28 [==============================] - 1s 23ms/step - loss: 6.5089e-04 - accuracy: 0.0000e+00 - val_loss: 0.0188 - val_accuracy: 0.0103\n",
      "Epoch 71/120\n",
      "28/28 [==============================] - 1s 23ms/step - loss: 4.5151e-04 - accuracy: 0.0000e+00 - val_loss: 0.0211 - val_accuracy: 0.0103\n",
      "Epoch 72/120\n",
      "28/28 [==============================] - 1s 23ms/step - loss: 5.9001e-04 - accuracy: 0.0000e+00 - val_loss: 0.0193 - val_accuracy: 0.0103\n",
      "Epoch 73/120\n",
      "28/28 [==============================] - 1s 23ms/step - loss: 0.0011 - accuracy: 0.0000e+00 - val_loss: 0.0115 - val_accuracy: 0.0103\n",
      "Epoch 74/120\n",
      "28/28 [==============================] - 1s 23ms/step - loss: 7.1586e-04 - accuracy: 0.0000e+00 - val_loss: 0.0197 - val_accuracy: 0.0103\n",
      "Epoch 75/120\n",
      "28/28 [==============================] - 1s 23ms/step - loss: 7.0813e-04 - accuracy: 0.0000e+00 - val_loss: 0.0172 - val_accuracy: 0.0103\n",
      "Epoch 76/120\n",
      "28/28 [==============================] - 1s 23ms/step - loss: 7.1367e-04 - accuracy: 0.0000e+00 - val_loss: 0.0122 - val_accuracy: 0.0103\n",
      "Epoch 77/120\n",
      "28/28 [==============================] - 1s 23ms/step - loss: 5.5893e-04 - accuracy: 0.0000e+00 - val_loss: 0.0139 - val_accuracy: 0.0103\n",
      "Epoch 78/120\n",
      "28/28 [==============================] - 1s 23ms/step - loss: 5.4985e-04 - accuracy: 0.0000e+00 - val_loss: 0.0201 - val_accuracy: 0.0103\n",
      "Epoch 79/120\n",
      "28/28 [==============================] - 1s 23ms/step - loss: 5.0244e-04 - accuracy: 0.0000e+00 - val_loss: 0.0131 - val_accuracy: 0.0103\n",
      "Epoch 80/120\n",
      "28/28 [==============================] - 1s 23ms/step - loss: 6.1663e-04 - accuracy: 0.0000e+00 - val_loss: 0.0135 - val_accuracy: 0.0103\n",
      "Epoch 81/120\n",
      "28/28 [==============================] - 1s 23ms/step - loss: 8.2699e-04 - accuracy: 0.0000e+00 - val_loss: 0.0184 - val_accuracy: 0.0103\n",
      "Epoch 82/120\n",
      "28/28 [==============================] - 1s 23ms/step - loss: 6.2797e-04 - accuracy: 0.0000e+00 - val_loss: 0.0225 - val_accuracy: 0.0103\n",
      "Epoch 83/120\n",
      "28/28 [==============================] - 1s 23ms/step - loss: 5.5771e-04 - accuracy: 0.0000e+00 - val_loss: 0.0164 - val_accuracy: 0.0103\n",
      "Epoch 84/120\n",
      "28/28 [==============================] - 1s 23ms/step - loss: 5.9005e-04 - accuracy: 0.0000e+00 - val_loss: 0.0076 - val_accuracy: 0.0103\n",
      "Epoch 85/120\n",
      "28/28 [==============================] - 1s 23ms/step - loss: 7.1822e-04 - accuracy: 0.0000e+00 - val_loss: 0.0155 - val_accuracy: 0.0103\n",
      "Epoch 86/120\n",
      "28/28 [==============================] - 1s 23ms/step - loss: 4.8099e-04 - accuracy: 0.0000e+00 - val_loss: 0.0100 - val_accuracy: 0.0103\n",
      "Epoch 87/120\n",
      "28/28 [==============================] - 1s 23ms/step - loss: 6.3708e-04 - accuracy: 0.0000e+00 - val_loss: 0.0183 - val_accuracy: 0.0103\n",
      "Epoch 88/120\n",
      "28/28 [==============================] - 1s 23ms/step - loss: 4.9231e-04 - accuracy: 0.0000e+00 - val_loss: 0.0230 - val_accuracy: 0.0103\n",
      "Epoch 89/120\n",
      "28/28 [==============================] - 1s 23ms/step - loss: 4.9101e-04 - accuracy: 0.0000e+00 - val_loss: 0.0281 - val_accuracy: 0.0103\n",
      "Epoch 90/120\n",
      "28/28 [==============================] - 1s 23ms/step - loss: 7.0133e-04 - accuracy: 0.0000e+00 - val_loss: 0.0161 - val_accuracy: 0.0103\n",
      "Epoch 91/120\n",
      "28/28 [==============================] - 1s 23ms/step - loss: 6.6619e-04 - accuracy: 0.0000e+00 - val_loss: 0.0227 - val_accuracy: 0.0103\n",
      "Epoch 92/120\n",
      "28/28 [==============================] - 1s 23ms/step - loss: 5.9149e-04 - accuracy: 0.0000e+00 - val_loss: 0.0157 - val_accuracy: 0.0103\n",
      "Epoch 93/120\n",
      "28/28 [==============================] - 1s 23ms/step - loss: 5.5264e-04 - accuracy: 0.0000e+00 - val_loss: 0.0275 - val_accuracy: 0.0103\n",
      "Epoch 94/120\n",
      "28/28 [==============================] - 1s 23ms/step - loss: 6.6208e-04 - accuracy: 0.0000e+00 - val_loss: 0.0122 - val_accuracy: 0.0103\n",
      "Epoch 95/120\n",
      "28/28 [==============================] - 1s 23ms/step - loss: 6.0254e-04 - accuracy: 0.0000e+00 - val_loss: 0.0149 - val_accuracy: 0.0103\n",
      "Epoch 96/120\n",
      "28/28 [==============================] - 1s 23ms/step - loss: 5.9449e-04 - accuracy: 0.0000e+00 - val_loss: 0.0154 - val_accuracy: 0.0103\n",
      "Epoch 97/120\n",
      "28/28 [==============================] - 1s 23ms/step - loss: 5.5240e-04 - accuracy: 0.0000e+00 - val_loss: 0.0208 - val_accuracy: 0.0103\n",
      "Epoch 98/120\n",
      "28/28 [==============================] - 1s 23ms/step - loss: 5.1324e-04 - accuracy: 0.0000e+00 - val_loss: 0.0202 - val_accuracy: 0.0103\n",
      "Epoch 99/120\n",
      "28/28 [==============================] - 1s 23ms/step - loss: 4.9839e-04 - accuracy: 0.0000e+00 - val_loss: 0.0102 - val_accuracy: 0.0103\n",
      "Epoch 100/120\n",
      "28/28 [==============================] - 1s 23ms/step - loss: 6.2849e-04 - accuracy: 0.0000e+00 - val_loss: 0.0235 - val_accuracy: 0.0103\n",
      "Epoch 101/120\n",
      "28/28 [==============================] - 1s 23ms/step - loss: 5.4888e-04 - accuracy: 0.0000e+00 - val_loss: 0.0161 - val_accuracy: 0.0103\n",
      "Epoch 102/120\n",
      "28/28 [==============================] - 1s 23ms/step - loss: 4.6860e-04 - accuracy: 0.0000e+00 - val_loss: 0.0217 - val_accuracy: 0.0103\n",
      "Epoch 103/120\n",
      "28/28 [==============================] - 1s 23ms/step - loss: 4.7134e-04 - accuracy: 0.0000e+00 - val_loss: 0.0233 - val_accuracy: 0.0103\n",
      "Epoch 104/120\n",
      "28/28 [==============================] - 1s 23ms/step - loss: 4.5400e-04 - accuracy: 0.0000e+00 - val_loss: 0.0252 - val_accuracy: 0.0103\n",
      "Epoch 105/120\n",
      "28/28 [==============================] - 1s 23ms/step - loss: 5.4410e-04 - accuracy: 0.0000e+00 - val_loss: 0.0210 - val_accuracy: 0.0103\n",
      "Epoch 106/120\n",
      "28/28 [==============================] - 1s 23ms/step - loss: 4.6599e-04 - accuracy: 0.0000e+00 - val_loss: 0.0185 - val_accuracy: 0.0103\n",
      "Epoch 107/120\n",
      "28/28 [==============================] - 1s 23ms/step - loss: 4.9783e-04 - accuracy: 0.0000e+00 - val_loss: 0.0198 - val_accuracy: 0.0103\n",
      "Epoch 108/120\n",
      "28/28 [==============================] - 1s 23ms/step - loss: 4.4841e-04 - accuracy: 0.0000e+00 - val_loss: 0.0204 - val_accuracy: 0.0103\n",
      "Epoch 109/120\n",
      "28/28 [==============================] - 1s 23ms/step - loss: 5.7813e-04 - accuracy: 0.0000e+00 - val_loss: 0.0203 - val_accuracy: 0.0103\n",
      "Epoch 110/120\n",
      "28/28 [==============================] - 1s 23ms/step - loss: 5.3140e-04 - accuracy: 0.0000e+00 - val_loss: 0.0132 - val_accuracy: 0.0103\n",
      "Epoch 111/120\n",
      "28/28 [==============================] - 1s 23ms/step - loss: 5.9264e-04 - accuracy: 0.0000e+00 - val_loss: 0.0152 - val_accuracy: 0.0103\n",
      "Epoch 112/120\n",
      "28/28 [==============================] - 1s 24ms/step - loss: 5.5225e-04 - accuracy: 0.0000e+00 - val_loss: 0.0178 - val_accuracy: 0.0103\n",
      "Epoch 113/120\n",
      "28/28 [==============================] - 1s 24ms/step - loss: 6.3335e-04 - accuracy: 0.0000e+00 - val_loss: 0.0192 - val_accuracy: 0.0103\n",
      "Epoch 114/120\n",
      "28/28 [==============================] - 1s 24ms/step - loss: 6.0067e-04 - accuracy: 0.0000e+00 - val_loss: 0.0195 - val_accuracy: 0.0103\n",
      "Epoch 115/120\n",
      "28/28 [==============================] - 1s 24ms/step - loss: 5.1781e-04 - accuracy: 0.0000e+00 - val_loss: 0.0201 - val_accuracy: 0.0103\n",
      "Epoch 116/120\n",
      "28/28 [==============================] - 1s 24ms/step - loss: 5.3845e-04 - accuracy: 0.0000e+00 - val_loss: 0.0341 - val_accuracy: 0.0103\n",
      "Epoch 117/120\n",
      "28/28 [==============================] - 1s 24ms/step - loss: 7.1794e-04 - accuracy: 0.0000e+00 - val_loss: 0.0181 - val_accuracy: 0.0103\n",
      "Epoch 118/120\n",
      "28/28 [==============================] - 1s 24ms/step - loss: 5.6223e-04 - accuracy: 0.0000e+00 - val_loss: 0.0167 - val_accuracy: 0.0103\n",
      "Epoch 119/120\n",
      "28/28 [==============================] - 1s 23ms/step - loss: 5.4556e-04 - accuracy: 0.0000e+00 - val_loss: 0.0230 - val_accuracy: 0.0103\n",
      "Epoch 120/120\n",
      "28/28 [==============================] - 1s 23ms/step - loss: 4.1254e-04 - accuracy: 0.0000e+00 - val_loss: 0.0209 - val_accuracy: 0.0103\n"
     ]
    }
   ],
   "source": [
    "res = model.fit(X,y, epochs=120, batch_size=32, validation_split=0.1)"
   ]
  },
  {
   "cell_type": "code",
   "execution_count": 76,
   "metadata": {
    "scrolled": true
   },
   "outputs": [
    {
     "data": {
      "image/png": "[encoded data removed]",
      "text/plain": [
       "<Figure size 864x288 with 1 Axes>"
      ]
     },
     "metadata": {},
     "output_type": "display_data"
    },
    {
     "data": {
      "image/png": "[encoded data removed]",
      "text/plain": [
       "<Figure size 864x288 with 1 Axes>"
      ]
     },
     "metadata": {},
     "output_type": "display_data"
    }
   ],
   "source": [
    "visualize_results(res)"
   ]
  },
  {
   "cell_type": "code",
   "execution_count": 77,
   "metadata": {
    "scrolled": true
   },
   "outputs": [
    {
     "name": "stdout",
     "output_type": "stream",
     "text": [
      "predicted  [[114.71813783149577]]\n",
      "actuals  [[126.49999999999999]]\n"
     ]
    },
    {
     "data": {
      "image/png": "[encoded data removed]",
      "text/plain": [
       "<Figure size 864x288 with 1 Axes>"
      ]
     },
     "metadata": {},
     "output_type": "display_data"
    }
   ],
   "source": [
    "plt.figure(figsize=(12,4))\n",
    "\n",
    "yhat = model.predict(X[-1].reshape(1,n_per_in,n_features)).tolist()[0]\n",
    "\n",
    "yhat = scaler.inverse_transform(np.array(yhat).reshape(-1,1)).tolist()\n",
    "\n",
    "actual = scaler.inverse_transform(y[-1].reshape(-1,1))\n",
    "\n",
    "print(\"predicted \", yhat)\n",
    "plt.plot(yhat, label='predicted')\n",
    "\n",
    "print(\"actuals \", actual.tolist())\n",
    "plt.plot(actual.tolist(), label='actual')\n",
    "\n",
    "plt.title(\"Predicted vs Actual\")\n",
    "plt.ylabel('price')\n",
    "plt.legend()\n",
    "plt.show()"
   ]
  },
  {
   "cell_type": "code",
   "execution_count": null,
   "metadata": {},
   "outputs": [],
   "source": []
  },
  {
   "cell_type": "code",
   "execution_count": null,
   "metadata": {},
   "outputs": [],
   "source": []
  },
  {
   "cell_type": "code",
   "execution_count": 78,
   "metadata": {},
   "outputs": [
    {
     "name": "stdout",
     "output_type": "stream",
     "text": [
      "                  open\n",
      "2021-04-06  114.663684\n"
     ]
    },
    {
     "data": {
      "image/png": "[encoded data removed]",
      "text/plain": [
       "<Figure size 864x288 with 1 Axes>"
      ]
     },
     "metadata": {},
     "output_type": "display_data"
    }
   ],
   "source": [
    "yhat = model.predict(np.array(df.tail(n_per_in)).reshape(1,n_per_in,n_features)).tolist()[0]\n",
    "yhat = scaler.inverse_transform(np.array(yhat).reshape(-1,1)).tolist()\n",
    "\n",
    "preds = pd.DataFrame(yhat, index=pd.date_range(start=df.index[-1], periods=len(yhat),freq=\"D\"), columns=df.columns)\n",
    "\n",
    "print(preds)\n",
    "\n",
    "periods = 10\n",
    "\n",
    "actual = pd.DataFrame(scaler.inverse_transform(df[['open']].tail(periods)), index = df.open.tail(periods).index, columns = df.columns).append(preds.head(1))\n",
    "\n",
    "plt.figure(figsize=(12,4))\n",
    "plt.plot(actual, label='actuals')\n",
    "plt.plot(preds, label='predictions')\n",
    "plt.ylabel(\"price\")\n",
    "plt.ylabel('dates')\n",
    "plt.title(f'forecasting the next {len(yhat)} days')\n",
    "plt.legend()\n",
    "plt.show()"
   ]
  },
  {
   "cell_type": "code",
   "execution_count": null,
   "metadata": {},
   "outputs": [],
   "source": []
  },
  {
   "cell_type": "code",
   "execution_count": null,
   "metadata": {},
   "outputs": [],
   "source": []
  },
  {
   "cell_type": "code",
   "execution_count": null,
   "metadata": {},
   "outputs": [],
   "source": []
  }
 ],
 "metadata": {
  "kernelspec": {
   "display_name": "Python 3",
   "language": "python",
   "name": "python3"
  },
  "language_info": {
   "codemirror_mode": {
    "name": "ipython",
    "version": 3
   },
   "file_extension": ".py",
   "mimetype": "text/x-python",
   "name": "python",
   "nbconvert_exporter": "python",
   "pygments_lexer": "ipython3",
   "version": "3.9.4"
  }
 },
 "nbformat": 4,
 "nbformat_minor": 4
}
