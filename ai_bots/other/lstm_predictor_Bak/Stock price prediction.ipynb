{
 "cells": [
  {
   "cell_type": "code",
   "execution_count": 104,
   "metadata": {},
   "outputs": [],
   "source": [
    "#Import my dependencies\n",
    "import numpy as np\n",
    "import pandas as pd\n",
    "import matplotlib.pyplot as plt\n",
    "from sklearn.preprocessing import MinMaxScaler\n",
    "from keras.models import Sequential, load_model\n",
    "from keras.layers import LSTM, Dense, Dropout\n",
    "import os\n",
    "import tensorflow as tf\n",
    "\n",
    "\n",
    "import requests\n",
    "import json\n"
   ]
  },
  {
   "cell_type": "code",
   "execution_count": 105,
   "metadata": {},
   "outputs": [
    {
     "data": {
      "text/html": [
       "<div>\n",
       "<style scoped>\n",
       "    .dataframe tbody tr th:only-of-type {\n",
       "        vertical-align: middle;\n",
       "    }\n",
       "\n",
       "    .dataframe tbody tr th {\n",
       "        vertical-align: top;\n",
       "    }\n",
       "\n",
       "    .dataframe thead th {\n",
       "        text-align: right;\n",
       "    }\n",
       "</style>\n",
       "<table border=\"1\" class=\"dataframe\">\n",
       "  <thead>\n",
       "    <tr style=\"text-align: right;\">\n",
       "      <th></th>\n",
       "      <th>date</th>\n",
       "      <th>open</th>\n",
       "      <th>high</th>\n",
       "      <th>low</th>\n",
       "      <th>close</th>\n",
       "      <th>adjClose</th>\n",
       "      <th>volume</th>\n",
       "      <th>unadjustedVolume</th>\n",
       "      <th>change</th>\n",
       "      <th>changePercent</th>\n",
       "      <th>vwap</th>\n",
       "      <th>label</th>\n",
       "      <th>changeOverTime</th>\n",
       "    </tr>\n",
       "  </thead>\n",
       "  <tbody>\n",
       "    <tr>\n",
       "      <th>0</th>\n",
       "      <td>2016-04-06</td>\n",
       "      <td>27.557501</td>\n",
       "      <td>27.745001</td>\n",
       "      <td>27.299999</td>\n",
       "      <td>27.740000</td>\n",
       "      <td>25.839775</td>\n",
       "      <td>105616400.0</td>\n",
       "      <td>105616400.0</td>\n",
       "      <td>0.1825</td>\n",
       "      <td>0.662</td>\n",
       "      <td>27.59500</td>\n",
       "      <td>April 06, 16</td>\n",
       "      <td>0.00662</td>\n",
       "    </tr>\n",
       "    <tr>\n",
       "      <th>1</th>\n",
       "      <td>2016-04-07</td>\n",
       "      <td>27.487499</td>\n",
       "      <td>27.605000</td>\n",
       "      <td>27.030001</td>\n",
       "      <td>27.135000</td>\n",
       "      <td>25.276215</td>\n",
       "      <td>127207600.0</td>\n",
       "      <td>127207600.0</td>\n",
       "      <td>-0.3525</td>\n",
       "      <td>-1.282</td>\n",
       "      <td>27.25667</td>\n",
       "      <td>April 07, 16</td>\n",
       "      <td>-0.01282</td>\n",
       "    </tr>\n",
       "    <tr>\n",
       "      <th>2</th>\n",
       "      <td>2016-04-08</td>\n",
       "      <td>27.227501</td>\n",
       "      <td>27.442499</td>\n",
       "      <td>27.042500</td>\n",
       "      <td>27.165001</td>\n",
       "      <td>25.304159</td>\n",
       "      <td>94326800.0</td>\n",
       "      <td>94326800.0</td>\n",
       "      <td>-0.0625</td>\n",
       "      <td>-0.230</td>\n",
       "      <td>27.21667</td>\n",
       "      <td>April 08, 16</td>\n",
       "      <td>-0.00230</td>\n",
       "    </tr>\n",
       "    <tr>\n",
       "      <th>3</th>\n",
       "      <td>2016-04-11</td>\n",
       "      <td>27.242500</td>\n",
       "      <td>27.652500</td>\n",
       "      <td>27.207500</td>\n",
       "      <td>27.254999</td>\n",
       "      <td>25.387993</td>\n",
       "      <td>117630000.0</td>\n",
       "      <td>117630000.0</td>\n",
       "      <td>0.0125</td>\n",
       "      <td>0.046</td>\n",
       "      <td>27.37167</td>\n",
       "      <td>April 11, 16</td>\n",
       "      <td>0.00046</td>\n",
       "    </tr>\n",
       "    <tr>\n",
       "      <th>4</th>\n",
       "      <td>2016-04-12</td>\n",
       "      <td>27.334999</td>\n",
       "      <td>27.625000</td>\n",
       "      <td>27.165001</td>\n",
       "      <td>27.610001</td>\n",
       "      <td>25.718679</td>\n",
       "      <td>108929200.0</td>\n",
       "      <td>108929200.0</td>\n",
       "      <td>0.2750</td>\n",
       "      <td>1.006</td>\n",
       "      <td>27.46667</td>\n",
       "      <td>April 12, 16</td>\n",
       "      <td>0.01006</td>\n",
       "    </tr>\n",
       "  </tbody>\n",
       "</table>\n",
       "</div>"
      ],
      "text/plain": [
       "         date       open       high        low      close   adjClose  \\\n",
       "0  2016-04-06  27.557501  27.745001  27.299999  27.740000  25.839775   \n",
       "1  2016-04-07  27.487499  27.605000  27.030001  27.135000  25.276215   \n",
       "2  2016-04-08  27.227501  27.442499  27.042500  27.165001  25.304159   \n",
       "3  2016-04-11  27.242500  27.652500  27.207500  27.254999  25.387993   \n",
       "4  2016-04-12  27.334999  27.625000  27.165001  27.610001  25.718679   \n",
       "\n",
       "        volume  unadjustedVolume  change  changePercent      vwap  \\\n",
       "0  105616400.0       105616400.0  0.1825          0.662  27.59500   \n",
       "1  127207600.0       127207600.0 -0.3525         -1.282  27.25667   \n",
       "2   94326800.0        94326800.0 -0.0625         -0.230  27.21667   \n",
       "3  117630000.0       117630000.0  0.0125          0.046  27.37167   \n",
       "4  108929200.0       108929200.0  0.2750          1.006  27.46667   \n",
       "\n",
       "          label  changeOverTime  \n",
       "0  April 06, 16         0.00662  \n",
       "1  April 07, 16        -0.01282  \n",
       "2  April 08, 16        -0.00230  \n",
       "3  April 11, 16         0.00046  \n",
       "4  April 12, 16         0.01006  "
      ]
     },
     "execution_count": 105,
     "metadata": {},
     "output_type": "execute_result"
    }
   ],
   "source": [
    " #df = pd.read_csv(r'D:\\screener_project\\ai_bots\\lstm_predictor\\AAPL.csv')\n",
    "# df.head()\n",
    "tickerHistoryResponse = requests.get(\"https://financialmodelingprep.com/api/v3/\"+\"historical-price-full/\"+\"AAPL\"+\"?apikey=\"+\"56e431b750c849dd5d42c5c0443186fc\")\n",
    "dailyHistory=tickerHistoryResponse.json()['historical'][::-1]\n",
    "df = pd.DataFrame(dailyHistory)\n",
    "df.head()"
   ]
  },
  {
   "cell_type": "code",
   "execution_count": 106,
   "metadata": {
    "scrolled": true
   },
   "outputs": [
    {
     "name": "stdout",
     "output_type": "stream",
     "text": [
      "(1258, 1)\n"
     ]
    },
    {
     "data": {
      "text/plain": [
       "array([[27.557501],\n",
       "       [27.487499],\n",
       "       [27.227501],\n",
       "       [27.2425  ],\n",
       "       [27.334999],\n",
       "       [27.700001],\n",
       "       [27.905001]])"
      ]
     },
     "execution_count": 106,
     "metadata": {},
     "output_type": "execute_result"
    }
   ],
   "source": [
    "#preprocessing our data\n",
    "df = df['open'].values\n",
    "df = df.reshape(-1,1)\n",
    "print(df.shape)\n",
    "df[:7]"
   ]
  },
  {
   "cell_type": "code",
   "execution_count": 107,
   "metadata": {},
   "outputs": [
    {
     "name": "stdout",
     "output_type": "stream",
     "text": [
      "(1006, 1)\n",
      "(302, 1)\n"
     ]
    }
   ],
   "source": [
    "dataset_train = np.array(df[:int(df.shape[0]*0.8)])\n",
    "dataset_test = np.array(df[int(df.shape[0]*0.8)-50:])\n",
    "print(dataset_train.shape)\n",
    "print(dataset_test.shape)"
   ]
  },
  {
   "cell_type": "code",
   "execution_count": 108,
   "metadata": {
    "scrolled": true
   },
   "outputs": [
    {
     "data": {
      "text/plain": [
       "array([[0.08618047],\n",
       "       [0.08498763],\n",
       "       [0.08055723],\n",
       "       [0.08081282],\n",
       "       [0.08238901],\n",
       "       [0.08860869],\n",
       "       [0.09210192]])"
      ]
     },
     "execution_count": 108,
     "metadata": {},
     "output_type": "execute_result"
    }
   ],
   "source": [
    "scaler = MinMaxScaler(feature_range=(0,1))\n",
    "dataset_train = scaler.fit_transform(dataset_train)\n",
    "dataset_train[:7]"
   ]
  },
  {
   "cell_type": "code",
   "execution_count": 109,
   "metadata": {},
   "outputs": [
    {
     "data": {
      "text/plain": [
       "array([[0.97094666],\n",
       "       [0.98087249],\n",
       "       [0.93746274],\n",
       "       [0.94828327],\n",
       "       [0.99876468],\n",
       "       [0.98210793],\n",
       "       [0.98376928]])"
      ]
     },
     "execution_count": 109,
     "metadata": {},
     "output_type": "execute_result"
    }
   ],
   "source": [
    "dataset_test = scaler.transform(dataset_test)\n",
    "dataset_test[:7]"
   ]
  },
  {
   "cell_type": "code",
   "execution_count": 110,
   "metadata": {
    "tags": []
   },
   "outputs": [],
   "source": [
    "def create_my_dataset(df):\n",
    "    x = []\n",
    "    y = []\n",
    "    for i in range(50,df.shape[0]):\n",
    "        x.append(df[i-50:i,0])\n",
    "        y.append(df[i,0])\n",
    "    x = np.array(x)\n",
    "    y = np.array(y)\n",
    "    return x,y"
   ]
  },
  {
   "cell_type": "code",
   "execution_count": 111,
   "metadata": {
    "scrolled": true
   },
   "outputs": [
    {
     "data": {
      "text/plain": [
       "array([[0.08618047, 0.08498763, 0.08055723, 0.08081282, 0.08238901,\n",
       "        0.08860869, 0.09210192, 0.09418932, 0.08047201, 0.07616936,\n",
       "        0.07088694, 0.07212235, 0.06394311, 0.06390049, 0.05925707,\n",
       "        0.0255602 , 0.03241885, 0.01699751, 0.01691233, 0.01789212,\n",
       "        0.02215215, 0.01704013, 0.01435633, 0.0127801 , 0.01418591,\n",
       "        0.01482493, 0.01158729, 0.        , 0.01018148, 0.01938317,\n",
       "        0.01772175, 0.01976655, 0.01976655, 0.02500641, 0.03075743,\n",
       "        0.03693448, 0.04123711, 0.04021472, 0.04089631, 0.03842548,\n",
       "        0.03237625, 0.03318565, 0.03403764, 0.0394053 , 0.03842548,\n",
       "        0.03621028, 0.03633808, 0.0370197 , 0.03118344, 0.03331345]])"
      ]
     },
     "execution_count": 111,
     "metadata": {},
     "output_type": "execute_result"
    }
   ],
   "source": [
    "x_train, y_train = create_my_dataset(dataset_train)\n",
    "x_train[:1]"
   ]
  },
  {
   "cell_type": "code",
   "execution_count": 112,
   "metadata": {},
   "outputs": [
    {
     "data": {
      "text/plain": [
       "array([0.02747719])"
      ]
     },
     "execution_count": 112,
     "metadata": {},
     "output_type": "execute_result"
    }
   ],
   "source": [
    "y_train[:1]"
   ]
  },
  {
   "cell_type": "code",
   "execution_count": 113,
   "metadata": {
    "scrolled": true
   },
   "outputs": [
    {
     "data": {
      "text/plain": [
       "array([[0.97094666, 0.98087249, 0.93746274, 0.94828327, 0.99876468,\n",
       "        0.98210793, 0.98376928, 0.91292492, 0.95982791, 0.99480274,\n",
       "        0.9907558 , 0.98990374, 0.95501406, 0.99514363, 0.98606973,\n",
       "        0.99765703, 1.        , 0.96004086, 0.97980748, 0.99101138,\n",
       "        0.97392862, 0.88293437, 0.89865391, 0.83722419, 0.81409225,\n",
       "        0.71253307, 0.81911905, 0.9102412 , 0.87944113, 0.87552183,\n",
       "        0.81792624, 0.74018065, 0.79722255, 0.79828756, 0.70690981,\n",
       "        0.74503716, 0.64731192, 0.67099771, 0.63802509, 0.67048652,\n",
       "        0.66959188, 0.58822529, 0.62349836, 0.68480023, 0.66678031,\n",
       "        0.69332029, 0.68475764, 0.70546142, 0.66669509, 0.64045327]])"
      ]
     },
     "execution_count": 113,
     "metadata": {},
     "output_type": "execute_result"
    }
   ],
   "source": [
    "x_test, y_test = create_my_dataset(dataset_test)\n",
    "x_test[:1]"
   ]
  },
  {
   "cell_type": "code",
   "execution_count": 114,
   "metadata": {
    "scrolled": true
   },
   "outputs": [
    {
     "name": "stdout",
     "output_type": "stream",
     "text": [
      "(956, 50, 1)\n",
      "(252, 50, 1)\n"
     ]
    }
   ],
   "source": [
    "#reshaping for LSTM\n",
    "x_train = np.reshape(x_train, (x_train.shape[0],x_train.shape[1],1))\n",
    "x_test = np.reshape(x_test, (x_test.shape[0], x_test.shape[1],1))\n",
    "print(x_train.shape)\n",
    "print(x_test.shape)"
   ]
  },
  {
   "cell_type": "code",
   "execution_count": 115,
   "metadata": {
    "tags": []
   },
   "outputs": [],
   "source": [
    "tf.compat.v1.logging.set_verbosity(tf.compat.v1.logging.ERROR)\n",
    "model = Sequential()\n",
    "model.add(LSTM(units=96, return_sequences=True, input_shape=(x_train.shape[1],1)))\n",
    "model.add(Dropout(0.2))\n",
    "model.add(LSTM(units=96, return_sequences=True))\n",
    "model.add(Dropout(0.2))\n",
    "model.add(LSTM(units=96))\n",
    "model.add(Dropout(0.2))\n",
    "model.add(Dense(units=1))"
   ]
  },
  {
   "cell_type": "code",
   "execution_count": 116,
   "metadata": {
    "scrolled": true
   },
   "outputs": [
    {
     "name": "stdout",
     "output_type": "stream",
     "text": [
      "Model: \"sequential_4\"\n",
      "_________________________________________________________________\n",
      "Layer (type)                 Output Shape              Param #   \n",
      "=================================================================\n",
      "lstm_12 (LSTM)               (None, 50, 96)            37632     \n",
      "_________________________________________________________________\n",
      "dropout_12 (Dropout)         (None, 50, 96)            0         \n",
      "_________________________________________________________________\n",
      "lstm_13 (LSTM)               (None, 50, 96)            74112     \n",
      "_________________________________________________________________\n",
      "dropout_13 (Dropout)         (None, 50, 96)            0         \n",
      "_________________________________________________________________\n",
      "lstm_14 (LSTM)               (None, 96)                74112     \n",
      "_________________________________________________________________\n",
      "dropout_14 (Dropout)         (None, 96)                0         \n",
      "_________________________________________________________________\n",
      "dense_4 (Dense)              (None, 1)                 97        \n",
      "=================================================================\n",
      "Total params: 185,953\n",
      "Trainable params: 185,953\n",
      "Non-trainable params: 0\n",
      "_________________________________________________________________\n"
     ]
    }
   ],
   "source": [
    "model.summary()"
   ]
  },
  {
   "cell_type": "code",
   "execution_count": 117,
   "metadata": {
    "tags": []
   },
   "outputs": [],
   "source": [
    "model.compile(loss='mean_squared_error', optimizer ='adam')"
   ]
  },
  {
   "cell_type": "code",
   "execution_count": 118,
   "metadata": {},
   "outputs": [
    {
     "name": "stdout",
     "output_type": "stream",
     "text": [
      "Epoch 1/50\n",
      "30/30 [==============================] - 5s 31ms/step - loss: 0.0440\n",
      "Epoch 2/50\n",
      "30/30 [==============================] - 1s 31ms/step - loss: 0.0032\n",
      "Epoch 3/50\n",
      "30/30 [==============================] - 1s 31ms/step - loss: 0.0039\n",
      "Epoch 4/50\n",
      "30/30 [==============================] - 1s 31ms/step - loss: 0.0028\n",
      "Epoch 5/50\n",
      "30/30 [==============================] - 1s 31ms/step - loss: 0.0025\n",
      "Epoch 6/50\n",
      "30/30 [==============================] - 1s 31ms/step - loss: 0.0025\n",
      "Epoch 7/50\n",
      "30/30 [==============================] - 1s 31ms/step - loss: 0.0025\n",
      "Epoch 8/50\n",
      "30/30 [==============================] - 1s 31ms/step - loss: 0.0020\n",
      "Epoch 9/50\n",
      "30/30 [==============================] - 1s 31ms/step - loss: 0.0019\n",
      "Epoch 10/50\n",
      "30/30 [==============================] - 1s 31ms/step - loss: 0.0022\n",
      "Epoch 11/50\n",
      "30/30 [==============================] - 1s 32ms/step - loss: 0.0022\n",
      "Epoch 12/50\n",
      "30/30 [==============================] - 1s 32ms/step - loss: 0.0021\n",
      "Epoch 13/50\n",
      "30/30 [==============================] - 1s 32ms/step - loss: 0.0020\n",
      "Epoch 14/50\n",
      "30/30 [==============================] - 1s 32ms/step - loss: 0.0018\n",
      "Epoch 15/50\n",
      "30/30 [==============================] - 1s 32ms/step - loss: 0.0017\n",
      "Epoch 16/50\n",
      "30/30 [==============================] - 1s 31ms/step - loss: 0.0019\n",
      "Epoch 17/50\n",
      "30/30 [==============================] - 1s 32ms/step - loss: 0.0016\n",
      "Epoch 18/50\n",
      "30/30 [==============================] - 1s 32ms/step - loss: 0.0015\n",
      "Epoch 19/50\n",
      "30/30 [==============================] - 1s 32ms/step - loss: 0.0014\n",
      "Epoch 20/50\n",
      "30/30 [==============================] - 1s 32ms/step - loss: 0.0017\n",
      "Epoch 21/50\n",
      "30/30 [==============================] - 1s 32ms/step - loss: 0.0017\n",
      "Epoch 22/50\n",
      "30/30 [==============================] - 1s 32ms/step - loss: 0.0016\n",
      "Epoch 23/50\n",
      "30/30 [==============================] - 1s 32ms/step - loss: 0.0016\n",
      "Epoch 24/50\n",
      "30/30 [==============================] - 1s 32ms/step - loss: 0.0015\n",
      "Epoch 25/50\n",
      "30/30 [==============================] - 1s 32ms/step - loss: 0.0015\n",
      "Epoch 26/50\n",
      "30/30 [==============================] - 1s 32ms/step - loss: 0.0016\n",
      "Epoch 27/50\n",
      "30/30 [==============================] - 1s 32ms/step - loss: 0.0018\n",
      "Epoch 28/50\n",
      "30/30 [==============================] - 1s 32ms/step - loss: 0.0015\n",
      "Epoch 29/50\n",
      "30/30 [==============================] - 1s 32ms/step - loss: 0.0016\n",
      "Epoch 30/50\n",
      "30/30 [==============================] - 1s 32ms/step - loss: 0.0016\n",
      "Epoch 31/50\n",
      "30/30 [==============================] - 1s 32ms/step - loss: 0.0013\n",
      "Epoch 32/50\n",
      "30/30 [==============================] - 1s 34ms/step - loss: 0.0013\n",
      "Epoch 33/50\n",
      "30/30 [==============================] - 1s 34ms/step - loss: 0.0015\n",
      "Epoch 34/50\n",
      "30/30 [==============================] - 1s 34ms/step - loss: 0.0020\n",
      "Epoch 35/50\n",
      "30/30 [==============================] - 1s 34ms/step - loss: 0.0014\n",
      "Epoch 36/50\n",
      "30/30 [==============================] - 1s 34ms/step - loss: 0.0015\n",
      "Epoch 37/50\n",
      "30/30 [==============================] - 1s 34ms/step - loss: 0.0013\n",
      "Epoch 38/50\n",
      "30/30 [==============================] - 1s 34ms/step - loss: 0.0015\n",
      "Epoch 39/50\n",
      "30/30 [==============================] - 1s 34ms/step - loss: 0.0013\n",
      "Epoch 40/50\n",
      "30/30 [==============================] - 1s 34ms/step - loss: 0.0012\n",
      "Epoch 41/50\n",
      "30/30 [==============================] - 1s 34ms/step - loss: 0.0013\n",
      "Epoch 42/50\n",
      "30/30 [==============================] - 1s 34ms/step - loss: 0.0013\n",
      "Epoch 43/50\n",
      "30/30 [==============================] - 1s 34ms/step - loss: 0.0011\n",
      "Epoch 44/50\n",
      "30/30 [==============================] - 1s 34ms/step - loss: 0.0012\n",
      "Epoch 45/50\n",
      "30/30 [==============================] - 1s 34ms/step - loss: 0.0016\n",
      "Epoch 46/50\n",
      "30/30 [==============================] - 1s 34ms/step - loss: 0.0012\n",
      "Epoch 47/50\n",
      "30/30 [==============================] - 1s 34ms/step - loss: 0.0019\n",
      "Epoch 48/50\n",
      "30/30 [==============================] - 1s 34ms/step - loss: 0.0012\n",
      "Epoch 49/50\n",
      "30/30 [==============================] - 1s 34ms/step - loss: 9.8796e-04\n",
      "Epoch 50/50\n",
      "30/30 [==============================] - 1s 34ms/step - loss: 9.6049e-04\n"
     ]
    }
   ],
   "source": [
    "if(not os.path.exists(r'D:\\screener_project\\ai_bots\\lstm_predictor\\stock_prediction.h5')):\n",
    "    model.fit(x_train, y_train, epochs=50, batch_size=32)\n",
    "    model.save(r'D:\\screener_project\\ai_bots\\lstm_predictor\\stock_prediction.h5')"
   ]
  },
  {
   "cell_type": "code",
   "execution_count": 119,
   "metadata": {
    "tags": []
   },
   "outputs": [],
   "source": [
    "model = load_model(r'D:\\screener_project\\ai_bots\\lstm_predictor\\stock_prediction.h5')"
   ]
  },
  {
   "cell_type": "code",
   "execution_count": 120,
   "metadata": {
    "scrolled": true
   },
   "outputs": [
    {
     "name": "stdout",
     "output_type": "stream",
     "text": [
      "range(1006, 1258)\n"
     ]
    },
    {
     "data": {
      "image/png": "[encoded data removed]",
      "text/plain": [
       "<Figure size 576x288 with 1 Axes>"
      ]
     },
     "metadata": {
      "needs_background": "light"
     },
     "output_type": "display_data"
    }
   ],
   "source": [
    "#visualizing our predictions\n",
    "%matplotlib inline\n",
    "predictions = model.predict(x_test)\n",
    "predictions = scaler.inverse_transform(predictions)\n",
    "\n",
    "fig, ax = plt.subplots(figsize=(8,4))\n",
    "plt.plot(df, color='red', label='original Stockprice')\n",
    "ax.plot(range(len(y_train)+50, len(y_train)+50+len(predictions)),predictions,color='blue', label='predicted')\n",
    "plt.legend()\n",
    "print(range(len(y_train)+50, len(y_train)+50+len(predictions)))"
   ]
  },
  {
   "cell_type": "code",
   "execution_count": 121,
   "metadata": {},
   "outputs": [
    {
     "data": {
      "text/plain": [
       "<matplotlib.legend.Legend at 0x1bd3d6955b0>"
      ]
     },
     "execution_count": 121,
     "metadata": {},
     "output_type": "execute_result"
    },
    {
     "data": {
      "image/png": "[encoded data removed]",
      "text/plain": [
       "<Figure size 576x288 with 1 Axes>"
      ]
     },
     "metadata": {
      "needs_background": "light"
     },
     "output_type": "display_data"
    }
   ],
   "source": [
    "y_test_scaled = scaler.inverse_transform(y_test.reshape(-1,1))\n",
    "\n",
    "fig, ax = plt.subplots(figsize=(8,4))\n",
    "ax.plot(y_test_scaled, color='red', label = 'True Price of testing set')\n",
    "plt.plot(predictions, color = 'blue', label='predicted')\n",
    "plt.legend()"
   ]
  },
  {
   "cell_type": "code",
   "execution_count": null,
   "metadata": {},
   "outputs": [],
   "source": []
  }
 ],
 "metadata": {
  "kernelspec": {
   "display_name": "Python 3",
   "language": "python",
   "name": "python3"
  },
  "language_info": {
   "codemirror_mode": {
    "name": "ipython",
    "version": 3
   },
   "file_extension": ".py",
   "mimetype": "text/x-python",
   "name": "python",
   "nbconvert_exporter": "python",
   "pygments_lexer": "ipython3",
   "version": "3.9.4"
  }
 },
 "nbformat": 4,
 "nbformat_minor": 4
}
