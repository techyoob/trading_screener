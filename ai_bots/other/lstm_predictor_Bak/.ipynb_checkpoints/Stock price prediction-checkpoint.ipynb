{
 "cells": [
  {
   "cell_type": "code",
   "execution_count": 102,
   "metadata": {},
   "outputs": [],
   "source": [
    "#Import my dependencies\n",
    "import numpy as np\n",
    "import pandas as pd\n",
    "import matplotlib.pyplot as plt\n",
    "from sklearn.preprocessing import MinMaxScaler\n",
    "from keras.models import Sequential, load_model\n",
    "from keras.layers import LSTM, Dense, Dropout\n",
    "import os\n",
    "import tensorflow as tf\n",
    "\n",
    "\n",
    "import requests\n",
    "import json\n"
   ]
  },
  {
   "cell_type": "code",
   "execution_count": 103,
   "metadata": {},
   "outputs": [
    {
     "data": {
      "text/html": [
       "<div>\n",
       "<style scoped>\n",
       "    .dataframe tbody tr th:only-of-type {\n",
       "        vertical-align: middle;\n",
       "    }\n",
       "\n",
       "    .dataframe tbody tr th {\n",
       "        vertical-align: top;\n",
       "    }\n",
       "\n",
       "    .dataframe thead th {\n",
       "        text-align: right;\n",
       "    }\n",
       "</style>\n",
       "<table border=\"1\" class=\"dataframe\">\n",
       "  <thead>\n",
       "    <tr style=\"text-align: right;\">\n",
       "      <th></th>\n",
       "      <th>date</th>\n",
       "      <th>open</th>\n",
       "      <th>high</th>\n",
       "      <th>low</th>\n",
       "      <th>close</th>\n",
       "      <th>adjClose</th>\n",
       "      <th>volume</th>\n",
       "      <th>unadjustedVolume</th>\n",
       "      <th>change</th>\n",
       "      <th>changePercent</th>\n",
       "      <th>vwap</th>\n",
       "      <th>label</th>\n",
       "      <th>changeOverTime</th>\n",
       "    </tr>\n",
       "  </thead>\n",
       "  <tbody>\n",
       "    <tr>\n",
       "      <th>0</th>\n",
       "      <td>2016-04-06</td>\n",
       "      <td>27.557501</td>\n",
       "      <td>27.745001</td>\n",
       "      <td>27.299999</td>\n",
       "      <td>27.740000</td>\n",
       "      <td>25.839775</td>\n",
       "      <td>105616400.0</td>\n",
       "      <td>105616400.0</td>\n",
       "      <td>0.1825</td>\n",
       "      <td>0.662</td>\n",
       "      <td>27.59500</td>\n",
       "      <td>April 06, 16</td>\n",
       "      <td>0.00662</td>\n",
       "    </tr>\n",
       "    <tr>\n",
       "      <th>1</th>\n",
       "      <td>2016-04-07</td>\n",
       "      <td>27.487499</td>\n",
       "      <td>27.605000</td>\n",
       "      <td>27.030001</td>\n",
       "      <td>27.135000</td>\n",
       "      <td>25.276215</td>\n",
       "      <td>127207600.0</td>\n",
       "      <td>127207600.0</td>\n",
       "      <td>-0.3525</td>\n",
       "      <td>-1.282</td>\n",
       "      <td>27.25667</td>\n",
       "      <td>April 07, 16</td>\n",
       "      <td>-0.01282</td>\n",
       "    </tr>\n",
       "    <tr>\n",
       "      <th>2</th>\n",
       "      <td>2016-04-08</td>\n",
       "      <td>27.227501</td>\n",
       "      <td>27.442499</td>\n",
       "      <td>27.042500</td>\n",
       "      <td>27.165001</td>\n",
       "      <td>25.304159</td>\n",
       "      <td>94326800.0</td>\n",
       "      <td>94326800.0</td>\n",
       "      <td>-0.0625</td>\n",
       "      <td>-0.230</td>\n",
       "      <td>27.21667</td>\n",
       "      <td>April 08, 16</td>\n",
       "      <td>-0.00230</td>\n",
       "    </tr>\n",
       "    <tr>\n",
       "      <th>3</th>\n",
       "      <td>2016-04-11</td>\n",
       "      <td>27.242500</td>\n",
       "      <td>27.652500</td>\n",
       "      <td>27.207500</td>\n",
       "      <td>27.254999</td>\n",
       "      <td>25.387993</td>\n",
       "      <td>117630000.0</td>\n",
       "      <td>117630000.0</td>\n",
       "      <td>0.0125</td>\n",
       "      <td>0.046</td>\n",
       "      <td>27.37167</td>\n",
       "      <td>April 11, 16</td>\n",
       "      <td>0.00046</td>\n",
       "    </tr>\n",
       "    <tr>\n",
       "      <th>4</th>\n",
       "      <td>2016-04-12</td>\n",
       "      <td>27.334999</td>\n",
       "      <td>27.625000</td>\n",
       "      <td>27.165001</td>\n",
       "      <td>27.610001</td>\n",
       "      <td>25.718679</td>\n",
       "      <td>108929200.0</td>\n",
       "      <td>108929200.0</td>\n",
       "      <td>0.2750</td>\n",
       "      <td>1.006</td>\n",
       "      <td>27.46667</td>\n",
       "      <td>April 12, 16</td>\n",
       "      <td>0.01006</td>\n",
       "    </tr>\n",
       "  </tbody>\n",
       "</table>\n",
       "</div>"
      ],
      "text/plain": [
       "         date       open       high        low      close   adjClose  \\\n",
       "0  2016-04-06  27.557501  27.745001  27.299999  27.740000  25.839775   \n",
       "1  2016-04-07  27.487499  27.605000  27.030001  27.135000  25.276215   \n",
       "2  2016-04-08  27.227501  27.442499  27.042500  27.165001  25.304159   \n",
       "3  2016-04-11  27.242500  27.652500  27.207500  27.254999  25.387993   \n",
       "4  2016-04-12  27.334999  27.625000  27.165001  27.610001  25.718679   \n",
       "\n",
       "        volume  unadjustedVolume  change  changePercent      vwap  \\\n",
       "0  105616400.0       105616400.0  0.1825          0.662  27.59500   \n",
       "1  127207600.0       127207600.0 -0.3525         -1.282  27.25667   \n",
       "2   94326800.0        94326800.0 -0.0625         -0.230  27.21667   \n",
       "3  117630000.0       117630000.0  0.0125          0.046  27.37167   \n",
       "4  108929200.0       108929200.0  0.2750          1.006  27.46667   \n",
       "\n",
       "          label  changeOverTime  \n",
       "0  April 06, 16         0.00662  \n",
       "1  April 07, 16        -0.01282  \n",
       "2  April 08, 16        -0.00230  \n",
       "3  April 11, 16         0.00046  \n",
       "4  April 12, 16         0.01006  "
      ]
     },
     "execution_count": 103,
     "metadata": {},
     "output_type": "execute_result"
    }
   ],
   "source": [
    " #df = pd.read_csv(r'D:\\screener_project\\ai_bots\\lstm_predictor\\AAPL.csv')\n",
    "# df.head()\n",
    "tickerHistoryResponse = requests.get(\"https://financialmodelingprep.com/api/v3/\"+\"historical-price-full/\"+\"AAPL\"+\"?apikey=\"+\"56e431b750c849dd5d42c5c0443186fc\")\n",
    "dailyHistory=tickerHistoryResponse.json()['historical'][::-1]\n",
    "df = pd.DataFrame(dailyHistory)\n",
    "df.head()"
   ]
  },
  {
   "cell_type": "code",
   "execution_count": 60,
   "metadata": {
    "scrolled": true
   },
   "outputs": [
    {
     "name": "stdout",
     "output_type": "stream",
     "text": [
      "(1258, 1)\n"
     ]
    },
    {
     "data": {
      "text/plain": [
       "array([[123.87    ],\n",
       "       [123.660004],\n",
       "       [121.650002],\n",
       "       [120.110001],\n",
       "       [121.650002],\n",
       "       [120.349998],\n",
       "       [119.540001]])"
      ]
     },
     "execution_count": 60,
     "metadata": {},
     "output_type": "execute_result"
    }
   ],
   "source": [
    "#preprocessing our data\n",
    "df = df['open'].values\n",
    "df = df.reshape(-1,1)\n",
    "print(df.shape)\n",
    "df[:7]"
   ]
  },
  {
   "cell_type": "code",
   "execution_count": 61,
   "metadata": {},
   "outputs": [
    {
     "name": "stdout",
     "output_type": "stream",
     "text": [
      "(1006, 1)\n",
      "(302, 1)\n"
     ]
    }
   ],
   "source": [
    "dataset_train = np.array(df[:int(df.shape[0]*0.8)])\n",
    "dataset_test = np.array(df[int(df.shape[0]*0.8)-50:])\n",
    "print(dataset_train.shape)\n",
    "print(dataset_test.shape)"
   ]
  },
  {
   "cell_type": "code",
   "execution_count": 62,
   "metadata": {
    "scrolled": true
   },
   "outputs": [
    {
     "data": {
      "text/plain": [
       "array([[0.81781241],\n",
       "       [0.8158733 ],\n",
       "       [0.79731287],\n",
       "       [0.78309244],\n",
       "       [0.79731287],\n",
       "       [0.78530859],\n",
       "       [0.77782904]])"
      ]
     },
     "execution_count": 62,
     "metadata": {},
     "output_type": "execute_result"
    }
   ],
   "source": [
    "scaler = MinMaxScaler(feature_range=(0,1))\n",
    "dataset_train = scaler.fit_transform(dataset_train)\n",
    "dataset_train[:7]"
   ]
  },
  {
   "cell_type": "code",
   "execution_count": 63,
   "metadata": {},
   "outputs": [
    {
     "data": {
      "text/plain": [
       "array([[0.00484789],\n",
       "       [0.01449744],\n",
       "       [0.01371255],\n",
       "       [0.01043447],\n",
       "       [0.03224988],\n",
       "       [0.03238838],\n",
       "       [0.03185743]])"
      ]
     },
     "execution_count": 63,
     "metadata": {},
     "output_type": "execute_result"
    }
   ],
   "source": [
    "dataset_test = scaler.transform(dataset_test)\n",
    "dataset_test[:7]"
   ]
  },
  {
   "cell_type": "code",
   "execution_count": 64,
   "metadata": {
    "tags": []
   },
   "outputs": [],
   "source": [
    "def create_my_dataset(df):\n",
    "    x = []\n",
    "    y = []\n",
    "    for i in range(50,df.shape[0]):\n",
    "        x.append(df[i-50:i,0])\n",
    "        y.append(df[i,0])\n",
    "    x = np.array(x)\n",
    "    y = np.array(y)\n",
    "    return x,y"
   ]
  },
  {
   "cell_type": "code",
   "execution_count": 65,
   "metadata": {
    "scrolled": true
   },
   "outputs": [
    {
     "data": {
      "text/plain": [
       "array([[0.81781241, 0.8158733 , 0.79731287, 0.78309244, 0.79731287,\n",
       "        0.78530859, 0.77782904, 0.80811667, 0.81282605, 0.78512394,\n",
       "        0.78115331, 0.80867069, 0.81947457, 0.83471067, 0.79509672,\n",
       "        0.78577032, 0.80553115, 0.79768223, 0.77311967, 0.79066435,\n",
       "        0.79112607, 0.79823625, 0.82649239, 0.85973497, 0.81670433,\n",
       "        0.80599281, 0.82529198, 0.82769285, 0.81679669, 0.85604127,\n",
       "        0.87663327, 0.8670298 , 0.8859596 , 0.92511196, 0.91458517,\n",
       "        0.92889781, 0.93425357, 0.93554633, 0.93009828, 0.94228727,\n",
       "        0.93259151, 0.92760506, 0.92732804, 0.90904469, 0.9282515 ,\n",
       "        0.96232511, 0.99843009, 1.        , 0.99510597, 0.93240679]])"
      ]
     },
     "execution_count": 65,
     "metadata": {},
     "output_type": "execute_result"
    }
   ],
   "source": [
    "x_train, y_train = create_my_dataset(dataset_train)\n",
    "x_train[:1]"
   ]
  },
  {
   "cell_type": "code",
   "execution_count": 66,
   "metadata": {},
   "outputs": [
    {
     "data": {
      "text/plain": [
       "array([0.90950642])"
      ]
     },
     "execution_count": 66,
     "metadata": {},
     "output_type": "execute_result"
    }
   ],
   "source": [
    "y_train[:1]"
   ]
  },
  {
   "cell_type": "code",
   "execution_count": 67,
   "metadata": {
    "scrolled": true
   },
   "outputs": [
    {
     "data": {
      "text/plain": [
       "array([[0.00484789, 0.01449744, 0.01371255, 0.01043447, 0.03224988,\n",
       "        0.03238838, 0.03185743, 0.02927188, 0.03028763, 0.02853317,\n",
       "        0.02758668, 0.02943349, 0.02816381, 0.02950275, 0.02887944,\n",
       "        0.02913337, 0.03158039, 0.02950275, 0.02807148, 0.02320053,\n",
       "        0.02857936, 0.03398126, 0.03414284, 0.03111869, 0.02592455,\n",
       "        0.02864861, 0.02920263, 0.01802946, 0.01278913, 0.01223511,\n",
       "        0.01008818, 0.01458976, 0.00895703, 0.00662541, 0.00623297,\n",
       "        0.00750265, 0.0062099 , 0.0052634 , 0.00281639, 0.        ,\n",
       "        0.00152363, 0.00043863, 0.0006002 , 0.00159288, 0.00087725,\n",
       "        0.00397064, 0.00549427, 0.00579435, 0.0070871 , 0.00692553]])"
      ]
     },
     "execution_count": 67,
     "metadata": {},
     "output_type": "execute_result"
    }
   ],
   "source": [
    "x_test, y_test = create_my_dataset(dataset_test)\n",
    "x_test[:1]"
   ]
  },
  {
   "cell_type": "code",
   "execution_count": 68,
   "metadata": {
    "scrolled": true
   },
   "outputs": [
    {
     "name": "stdout",
     "output_type": "stream",
     "text": [
      "(956, 50, 1)\n",
      "(252, 50, 1)\n"
     ]
    }
   ],
   "source": [
    "#reshaping for LSTM\n",
    "x_train = np.reshape(x_train, (x_train.shape[0],x_train.shape[1],1))\n",
    "x_test = np.reshape(x_test, (x_test.shape[0], x_test.shape[1],1))\n",
    "print(x_train.shape)\n",
    "print(x_test.shape)"
   ]
  },
  {
   "cell_type": "code",
   "execution_count": 69,
   "metadata": {
    "tags": []
   },
   "outputs": [],
   "source": [
    "tf.compat.v1.logging.set_verbosity(tf.compat.v1.logging.ERROR)\n",
    "model = Sequential()\n",
    "model.add(LSTM(units=96, return_sequences=True, input_shape=(x_train.shape[1],1)))\n",
    "model.add(Dropout(0.2))\n",
    "model.add(LSTM(units=96, return_sequences=True))\n",
    "model.add(Dropout(0.2))\n",
    "model.add(LSTM(units=96))\n",
    "model.add(Dropout(0.2))\n",
    "model.add(Dense(units=1))"
   ]
  },
  {
   "cell_type": "code",
   "execution_count": 70,
   "metadata": {
    "scrolled": true
   },
   "outputs": [
    {
     "name": "stdout",
     "output_type": "stream",
     "text": [
      "Model: \"sequential_3\"\n",
      "_________________________________________________________________\n",
      "Layer (type)                 Output Shape              Param #   \n",
      "=================================================================\n",
      "lstm_9 (LSTM)                (None, 50, 96)            37632     \n",
      "_________________________________________________________________\n",
      "dropout_9 (Dropout)          (None, 50, 96)            0         \n",
      "_________________________________________________________________\n",
      "lstm_10 (LSTM)               (None, 50, 96)            74112     \n",
      "_________________________________________________________________\n",
      "dropout_10 (Dropout)         (None, 50, 96)            0         \n",
      "_________________________________________________________________\n",
      "lstm_11 (LSTM)               (None, 96)                74112     \n",
      "_________________________________________________________________\n",
      "dropout_11 (Dropout)         (None, 96)                0         \n",
      "_________________________________________________________________\n",
      "dense_3 (Dense)              (None, 1)                 97        \n",
      "=================================================================\n",
      "Total params: 185,953\n",
      "Trainable params: 185,953\n",
      "Non-trainable params: 0\n",
      "_________________________________________________________________\n"
     ]
    }
   ],
   "source": [
    "model.summary()"
   ]
  },
  {
   "cell_type": "code",
   "execution_count": 71,
   "metadata": {
    "tags": []
   },
   "outputs": [],
   "source": [
    "model.compile(loss='mean_squared_error', optimizer ='adam')"
   ]
  },
  {
   "cell_type": "code",
   "execution_count": 72,
   "metadata": {},
   "outputs": [
    {
     "name": "stdout",
     "output_type": "stream",
     "text": [
      "Epoch 1/50\n",
      "30/30 [==============================] - 5s 31ms/step - loss: 0.0267\n",
      "Epoch 2/50\n",
      "30/30 [==============================] - 1s 31ms/step - loss: 0.0023\n",
      "Epoch 3/50\n",
      "30/30 [==============================] - 1s 31ms/step - loss: 0.0021\n",
      "Epoch 4/50\n",
      "30/30 [==============================] - 1s 31ms/step - loss: 0.0020\n",
      "Epoch 5/50\n",
      "30/30 [==============================] - 1s 31ms/step - loss: 0.0019\n",
      "Epoch 6/50\n",
      "30/30 [==============================] - 1s 31ms/step - loss: 0.0017\n",
      "Epoch 7/50\n",
      "30/30 [==============================] - 1s 31ms/step - loss: 0.0025\n",
      "Epoch 8/50\n",
      "30/30 [==============================] - 1s 31ms/step - loss: 0.0017\n",
      "Epoch 9/50\n",
      "30/30 [==============================] - 1s 32ms/step - loss: 0.0016\n",
      "Epoch 10/50\n",
      "30/30 [==============================] - 1s 32ms/step - loss: 0.0019\n",
      "Epoch 11/50\n",
      "30/30 [==============================] - 1s 32ms/step - loss: 0.0013\n",
      "Epoch 12/50\n",
      "30/30 [==============================] - 1s 32ms/step - loss: 0.0016\n",
      "Epoch 13/50\n",
      "30/30 [==============================] - 1s 32ms/step - loss: 0.0014\n",
      "Epoch 14/50\n",
      "30/30 [==============================] - 1s 31ms/step - loss: 0.0018\n",
      "Epoch 15/50\n",
      "30/30 [==============================] - 1s 31ms/step - loss: 0.0019\n",
      "Epoch 16/50\n",
      "30/30 [==============================] - 1s 31ms/step - loss: 0.0017\n",
      "Epoch 17/50\n",
      "30/30 [==============================] - 1s 32ms/step - loss: 0.0019\n",
      "Epoch 18/50\n",
      "30/30 [==============================] - 1s 32ms/step - loss: 0.0014\n",
      "Epoch 19/50\n",
      "30/30 [==============================] - 1s 32ms/step - loss: 0.0015\n",
      "Epoch 20/50\n",
      "30/30 [==============================] - 1s 32ms/step - loss: 0.0013\n",
      "Epoch 21/50\n",
      "30/30 [==============================] - 1s 31ms/step - loss: 0.0014\n",
      "Epoch 22/50\n",
      "30/30 [==============================] - 1s 31ms/step - loss: 0.0013\n",
      "Epoch 23/50\n",
      "30/30 [==============================] - 1s 32ms/step - loss: 0.0013\n",
      "Epoch 24/50\n",
      "30/30 [==============================] - 1s 32ms/step - loss: 0.0013\n",
      "Epoch 25/50\n",
      "30/30 [==============================] - 1s 32ms/step - loss: 0.0016\n",
      "Epoch 26/50\n",
      "30/30 [==============================] - 1s 31ms/step - loss: 0.0011\n",
      "Epoch 27/50\n",
      "30/30 [==============================] - 1s 32ms/step - loss: 0.0017\n",
      "Epoch 28/50\n",
      "30/30 [==============================] - 1s 32ms/step - loss: 0.0013\n",
      "Epoch 29/50\n",
      "30/30 [==============================] - 1s 32ms/step - loss: 0.0011\n",
      "Epoch 30/50\n",
      "30/30 [==============================] - 1s 32ms/step - loss: 0.0015\n",
      "Epoch 31/50\n",
      "30/30 [==============================] - 1s 34ms/step - loss: 0.0014\n",
      "Epoch 32/50\n",
      "30/30 [==============================] - 1s 34ms/step - loss: 0.0012\n",
      "Epoch 33/50\n",
      "30/30 [==============================] - 1s 34ms/step - loss: 0.0011\n",
      "Epoch 34/50\n",
      "30/30 [==============================] - 1s 34ms/step - loss: 9.6755e-04\n",
      "Epoch 35/50\n",
      "30/30 [==============================] - 1s 34ms/step - loss: 0.0013\n",
      "Epoch 36/50\n",
      "30/30 [==============================] - 1s 34ms/step - loss: 9.9315e-04\n",
      "Epoch 37/50\n",
      "30/30 [==============================] - 1s 34ms/step - loss: 9.0925e-04\n",
      "Epoch 38/50\n",
      "30/30 [==============================] - 1s 34ms/step - loss: 0.0011\n",
      "Epoch 39/50\n",
      "30/30 [==============================] - 1s 34ms/step - loss: 0.0010\n",
      "Epoch 40/50\n",
      "30/30 [==============================] - 1s 34ms/step - loss: 0.0013\n",
      "Epoch 41/50\n",
      "30/30 [==============================] - 1s 34ms/step - loss: 8.9684e-04\n",
      "Epoch 42/50\n",
      "30/30 [==============================] - 1s 34ms/step - loss: 0.0010\n",
      "Epoch 43/50\n",
      "30/30 [==============================] - 1s 34ms/step - loss: 0.0011\n",
      "Epoch 44/50\n",
      "30/30 [==============================] - 1s 34ms/step - loss: 0.0014\n",
      "Epoch 45/50\n",
      "30/30 [==============================] - 1s 34ms/step - loss: 8.1957e-04\n",
      "Epoch 46/50\n",
      "30/30 [==============================] - 1s 34ms/step - loss: 9.8098e-04\n",
      "Epoch 47/50\n",
      "30/30 [==============================] - 1s 34ms/step - loss: 8.8676e-04\n",
      "Epoch 48/50\n",
      "30/30 [==============================] - 1s 34ms/step - loss: 8.1361e-04\n",
      "Epoch 49/50\n",
      "30/30 [==============================] - 1s 34ms/step - loss: 0.0010\n",
      "Epoch 50/50\n",
      "30/30 [==============================] - 1s 34ms/step - loss: 0.0012\n"
     ]
    }
   ],
   "source": [
    "if(not os.path.exists(r'D:\\screener_project\\ai_bots\\lstm_predictor\\stock_prediction.h5')):\n",
    "    model.fit(x_train, y_train, epochs=50, batch_size=32)\n",
    "    model.save(r'D:\\screener_project\\ai_bots\\lstm_predictor\\stock_prediction.h5')"
   ]
  },
  {
   "cell_type": "code",
   "execution_count": 79,
   "metadata": {
    "tags": []
   },
   "outputs": [],
   "source": [
    "model = load_model(r'D:\\screener_project\\ai_bots\\lstm_predictor\\stock_prediction.h5')"
   ]
  },
  {
   "cell_type": "code",
   "execution_count": 80,
   "metadata": {
    "scrolled": true
   },
   "outputs": [
    {
     "name": "stdout",
     "output_type": "stream",
     "text": [
      "range(1006, 1258)\n"
     ]
    },
    {
     "data": {
      "image/png": "[encoded data removed]",
      "text/plain": [
       "<Figure size 576x288 with 1 Axes>"
      ]
     },
     "metadata": {
      "needs_background": "light"
     },
     "output_type": "display_data"
    }
   ],
   "source": [
    "#visualizing our predictions\n",
    "%matplotlib inline\n",
    "predictions = model.predict(x_test)\n",
    "predictions = scaler.inverse_transform(predictions)\n",
    "\n",
    "fig, ax = plt.subplots(figsize=(8,4))\n",
    "plt.plot(df, color='red', label='original Stockprice')\n",
    "ax.plot(range(len(y_train)+50, len(y_train)+50+len(predictions)),predictions,color='blue', label='predicted')\n",
    "plt.legend()\n",
    "print(range(len(y_train)+50, len(y_train)+50+len(predictions)))"
   ]
  },
  {
   "cell_type": "code",
   "execution_count": 81,
   "metadata": {},
   "outputs": [
    {
     "data": {
      "text/plain": [
       "<matplotlib.legend.Legend at 0x1bd4bfa1df0>"
      ]
     },
     "execution_count": 81,
     "metadata": {},
     "output_type": "execute_result"
    },
    {
     "data": {
      "image/png": "[encoded data removed]",
      "text/plain": [
       "<Figure size 576x288 with 1 Axes>"
      ]
     },
     "metadata": {
      "needs_background": "light"
     },
     "output_type": "display_data"
    }
   ],
   "source": [
    "y_test_scaled = scaler.inverse_transform(y_test.reshape(-1,1))\n",
    "\n",
    "fig, ax = plt.subplots(figsize=(8,4))\n",
    "ax.plot(y_test_scaled, color='red', label = 'True Price of testing set')\n",
    "plt.plot(predictions, color = 'blue', label='predicted')\n",
    "plt.legend()"
   ]
  },
  {
   "cell_type": "code",
   "execution_count": null,
   "metadata": {},
   "outputs": [],
   "source": []
  }
 ],
 "metadata": {
  "kernelspec": {
   "display_name": "Python 3",
   "language": "python",
   "name": "python3"
  },
  "language_info": {
   "codemirror_mode": {
    "name": "ipython",
    "version": 3
   },
   "file_extension": ".py",
   "mimetype": "text/x-python",
   "name": "python",
   "nbconvert_exporter": "python",
   "pygments_lexer": "ipython3",
   "version": "3.9.4"
  }
 },
 "nbformat": 4,
 "nbformat_minor": 4
}
