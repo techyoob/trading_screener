{
 "cells": [
  {
   "cell_type": "code",
   "execution_count": 14,
   "metadata": {},
   "outputs": [],
   "source": [
    "#Import my dependencies\n",
    "import numpy as np\n",
    "import pandas as pd\n",
    "import matplotlib.pyplot as plt\n",
    "from sklearn.preprocessing import MinMaxScaler\n",
    "from keras.models import Sequential, load_model\n",
    "from keras.layers import LSTM, Dense, Dropout\n",
    "import os\n",
    "import tensorflow as tf"
   ]
  },
  {
   "cell_type": "code",
   "execution_count": 15,
   "metadata": {},
   "outputs": [
    {
     "data": {
      "text/html": [
       "<div>\n",
       "<style scoped>\n",
       "    .dataframe tbody tr th:only-of-type {\n",
       "        vertical-align: middle;\n",
       "    }\n",
       "\n",
       "    .dataframe tbody tr th {\n",
       "        vertical-align: top;\n",
       "    }\n",
       "\n",
       "    .dataframe thead th {\n",
       "        text-align: right;\n",
       "    }\n",
       "</style>\n",
       "<table border=\"1\" class=\"dataframe\">\n",
       "  <thead>\n",
       "    <tr style=\"text-align: right;\">\n",
       "      <th></th>\n",
       "      <th>Date</th>\n",
       "      <th>Open</th>\n",
       "      <th>High</th>\n",
       "      <th>Low</th>\n",
       "      <th>Close</th>\n",
       "      <th>Adj Close</th>\n",
       "      <th>Volume</th>\n",
       "    </tr>\n",
       "  </thead>\n",
       "  <tbody>\n",
       "    <tr>\n",
       "      <th>0</th>\n",
       "      <td>2010-07-16</td>\n",
       "      <td>0.04951</td>\n",
       "      <td>0.04951</td>\n",
       "      <td>0.04951</td>\n",
       "      <td>0.04951</td>\n",
       "      <td>0.04951</td>\n",
       "      <td>0</td>\n",
       "    </tr>\n",
       "    <tr>\n",
       "      <th>1</th>\n",
       "      <td>2010-07-17</td>\n",
       "      <td>0.04951</td>\n",
       "      <td>0.08585</td>\n",
       "      <td>0.05941</td>\n",
       "      <td>0.08584</td>\n",
       "      <td>0.08584</td>\n",
       "      <td>5</td>\n",
       "    </tr>\n",
       "    <tr>\n",
       "      <th>2</th>\n",
       "      <td>2010-07-18</td>\n",
       "      <td>0.08584</td>\n",
       "      <td>0.09307</td>\n",
       "      <td>0.07723</td>\n",
       "      <td>0.08080</td>\n",
       "      <td>0.08080</td>\n",
       "      <td>49</td>\n",
       "    </tr>\n",
       "    <tr>\n",
       "      <th>3</th>\n",
       "      <td>2010-07-19</td>\n",
       "      <td>0.08080</td>\n",
       "      <td>0.08181</td>\n",
       "      <td>0.07426</td>\n",
       "      <td>0.07474</td>\n",
       "      <td>0.07474</td>\n",
       "      <td>20</td>\n",
       "    </tr>\n",
       "    <tr>\n",
       "      <th>4</th>\n",
       "      <td>2010-07-20</td>\n",
       "      <td>0.07474</td>\n",
       "      <td>0.07921</td>\n",
       "      <td>0.06634</td>\n",
       "      <td>0.07921</td>\n",
       "      <td>0.07921</td>\n",
       "      <td>42</td>\n",
       "    </tr>\n",
       "  </tbody>\n",
       "</table>\n",
       "</div>"
      ],
      "text/plain": [
       "         Date     Open     High      Low    Close  Adj Close  Volume\n",
       "0  2010-07-16  0.04951  0.04951  0.04951  0.04951    0.04951       0\n",
       "1  2010-07-17  0.04951  0.08585  0.05941  0.08584    0.08584       5\n",
       "2  2010-07-18  0.08584  0.09307  0.07723  0.08080    0.08080      49\n",
       "3  2010-07-19  0.08080  0.08181  0.07426  0.07474    0.07474      20\n",
       "4  2010-07-20  0.07474  0.07921  0.06634  0.07921    0.07921      42"
      ]
     },
     "execution_count": 15,
     "metadata": {},
     "output_type": "execute_result"
    }
   ],
   "source": [
    "df = pd.read_csv(r'D:\\screener_project\\ai\\lstm\\BTC-USD.csv')\n",
    "df.head()"
   ]
  },
  {
   "cell_type": "code",
   "execution_count": 16,
   "metadata": {
    "scrolled": true
   },
   "outputs": [
    {
     "name": "stdout",
     "output_type": "stream",
     "text": [
      "(3201, 1)\n"
     ]
    },
    {
     "data": {
      "text/plain": [
       "array([[0.04951],\n",
       "       [0.04951],\n",
       "       [0.08584],\n",
       "       [0.0808 ],\n",
       "       [0.07474],\n",
       "       [0.07921],\n",
       "       [0.0505 ]])"
      ]
     },
     "execution_count": 16,
     "metadata": {},
     "output_type": "execute_result"
    }
   ],
   "source": [
    "#preprocessing our data\n",
    "df = df['Open'].values\n",
    "df = df.reshape(-1,1)\n",
    "print(df.shape)\n",
    "df[:7]"
   ]
  },
  {
   "cell_type": "code",
   "execution_count": 17,
   "metadata": {},
   "outputs": [
    {
     "name": "stdout",
     "output_type": "stream",
     "text": [
      "(2560, 1)\n",
      "(691, 1)\n"
     ]
    }
   ],
   "source": [
    "dataset_train = np.array(df[:int(df.shape[0]*0.8)])\n",
    "dataset_test = np.array(df[int(df.shape[0]*0.8)-50:])\n",
    "print(dataset_train.shape)\n",
    "print(dataset_test.shape)"
   ]
  },
  {
   "cell_type": "code",
   "execution_count": 5,
   "metadata": {
    "scrolled": true
   },
   "outputs": [
    {
     "data": {
      "text/plain": [
       "array([[0.15550899],\n",
       "       [0.16002875],\n",
       "       [0.16546966],\n",
       "       [0.1432353 ],\n",
       "       [0.13837263],\n",
       "       [0.14619996],\n",
       "       [0.1321915 ]])"
      ]
     },
     "execution_count": 5,
     "metadata": {},
     "output_type": "execute_result"
    }
   ],
   "source": [
    "scaler = MinMaxScaler(feature_range=(0,1))\n",
    "dataset_train = scaler.fit_transform(dataset_train)\n",
    "dataset_train[:7]"
   ]
  },
  {
   "cell_type": "code",
   "execution_count": 6,
   "metadata": {},
   "outputs": [
    {
     "data": {
      "text/plain": [
       "array([[0.7048619 ],\n",
       "       [0.70865789],\n",
       "       [0.70043325],\n",
       "       [0.71080895],\n",
       "       [0.69518213],\n",
       "       [0.68006144],\n",
       "       [0.69056368]])"
      ]
     },
     "execution_count": 6,
     "metadata": {},
     "output_type": "execute_result"
    }
   ],
   "source": [
    "dataset_test = scaler.transform(dataset_test)\n",
    "dataset_test[:7]"
   ]
  },
  {
   "cell_type": "code",
   "execution_count": 7,
   "metadata": {
    "collapsed": true,
    "jupyter": {
     "outputs_hidden": true
    }
   },
   "outputs": [],
   "source": [
    "def create_my_dataset(df):\n",
    "    x = []\n",
    "    y = []\n",
    "    for i in range(50,df.shape[0]):\n",
    "        x.append(df[i-50:i,0])\n",
    "        y.append(df[i,0])\n",
    "    x = np.array(x)\n",
    "    y = np.array(y)\n",
    "    return x,y"
   ]
  },
  {
   "cell_type": "code",
   "execution_count": 8,
   "metadata": {
    "scrolled": true
   },
   "outputs": [
    {
     "data": {
      "text/plain": [
       "array([[0.15550899, 0.16002875, 0.16546966, 0.1432353 , 0.13837263,\n",
       "        0.14619996, 0.1321915 , 0.12602681, 0.10489581, 0.11077074,\n",
       "        0.11908522, 0.10095558, 0.10928904, 0.10137187, 0.09043563,\n",
       "        0.07199725, 0.06057385, 0.08412669, 0.06603248, 0.07561229,\n",
       "        0.07552245, 0.08609681, 0.07317274, 0.0810899 , 0.09030909,\n",
       "        0.09667117, 0.12929896, 0.1255384 , 0.11252448, 0.12040496,\n",
       "        0.13868011, 0.14003654, 0.12380363, 0.11180072, 0.09748478,\n",
       "        0.07163663, 0.07845043, 0.08277153, 0.06603248, 0.06666515,\n",
       "        0.06939446, 0.07254007, 0.08269814, 0.08347632, 0.07055098,\n",
       "        0.06073581, 0.0583861 , 0.03076649, 0.        , 0.00844228]])"
      ]
     },
     "execution_count": 8,
     "metadata": {},
     "output_type": "execute_result"
    }
   ],
   "source": [
    "x_train, y_train = create_my_dataset(dataset_train)\n",
    "x_train[:1]"
   ]
  },
  {
   "cell_type": "code",
   "execution_count": 41,
   "metadata": {},
   "outputs": [
    {
     "data": {
      "text/plain": [
       "array([0.02895833])"
      ]
     },
     "execution_count": 41,
     "metadata": {},
     "output_type": "execute_result"
    }
   ],
   "source": [
    "y_train[:1]"
   ]
  },
  {
   "cell_type": "code",
   "execution_count": 9,
   "metadata": {
    "scrolled": true
   },
   "outputs": [
    {
     "data": {
      "text/plain": [
       "array([[0.7048619 , 0.70865789, 0.70043325, 0.71080895, 0.69518213,\n",
       "        0.68006144, 0.69056368, 0.68423703, 0.68120024, 0.70144551,\n",
       "        0.71979279, 0.73219302, 0.73915233, 0.75433628, 0.7586384 ,\n",
       "        0.7724305 , 0.76395279, 0.77584689, 0.77660608, 0.7709121 ,\n",
       "        0.7612956 , 0.77306316, 0.78571645, 0.77217743, 0.77470809,\n",
       "        0.76395279, 0.76458545, 0.76547118, 0.77635302, 0.79115737,\n",
       "        0.80153307, 0.80115347, 0.80311474, 0.80583519, 0.79609216,\n",
       "        0.81709663, 0.80950465, 0.82279061, 0.81709663, 0.81140264,\n",
       "        0.82241101, 0.83822763, 0.84417468, 0.82886419, 0.83164791,\n",
       "        0.90604929, 0.91800665, 0.9222455 , 0.93262121, 0.95046235]])"
      ]
     },
     "execution_count": 9,
     "metadata": {},
     "output_type": "execute_result"
    }
   ],
   "source": [
    "x_test, y_test = create_my_dataset(dataset_test)\n",
    "x_test[:1]"
   ]
  },
  {
   "cell_type": "code",
   "execution_count": 10,
   "metadata": {
    "scrolled": true
   },
   "outputs": [
    {
     "name": "stdout",
     "output_type": "stream",
     "text": [
      "(957, 50, 1)\n",
      "(252, 50, 1)\n"
     ]
    }
   ],
   "source": [
    "#reshaping for LSTM\n",
    "x_train = np.reshape(x_train, (x_train.shape[0],x_train.shape[1],1))\n",
    "x_test = np.reshape(x_test, (x_test.shape[0], x_test.shape[1],1))\n",
    "print(x_train.shape)\n",
    "print(x_test.shape)"
   ]
  },
  {
   "cell_type": "code",
   "execution_count": 47,
   "metadata": {
    "collapsed": true,
    "jupyter": {
     "outputs_hidden": true
    }
   },
   "outputs": [],
   "source": [
    "tf.logging.set_verbosity(tf.logging.ERROR)\n",
    "model = Sequential()\n",
    "model.add(LSTM(units=96, return_sequences=True, input_shape=(x_train.shape[1],1)))\n",
    "model.add(Dropout(0.2))\n",
    "model.add(LSTM(units=96, return_sequences=True))\n",
    "model.add(Dropout(0.2))\n",
    "model.add(LSTM(units=96))\n",
    "model.add(Dropout(0.2))\n",
    "model.add(Dense(units=1))"
   ]
  },
  {
   "cell_type": "code",
   "execution_count": 48,
   "metadata": {
    "scrolled": true
   },
   "outputs": [
    {
     "name": "stdout",
     "output_type": "stream",
     "text": [
      "_________________________________________________________________\n",
      "Layer (type)                 Output Shape              Param #   \n",
      "=================================================================\n",
      "lstm_1 (LSTM)                (None, 50, 96)            37632     \n",
      "_________________________________________________________________\n",
      "dropout_1 (Dropout)          (None, 50, 96)            0         \n",
      "_________________________________________________________________\n",
      "lstm_2 (LSTM)                (None, 50, 96)            74112     \n",
      "_________________________________________________________________\n",
      "dropout_2 (Dropout)          (None, 50, 96)            0         \n",
      "_________________________________________________________________\n",
      "lstm_3 (LSTM)                (None, 96)                74112     \n",
      "_________________________________________________________________\n",
      "dropout_3 (Dropout)          (None, 96)                0         \n",
      "_________________________________________________________________\n",
      "dense_1 (Dense)              (None, 1)                 97        \n",
      "=================================================================\n",
      "Total params: 185,953\n",
      "Trainable params: 185,953\n",
      "Non-trainable params: 0\n",
      "_________________________________________________________________\n"
     ]
    }
   ],
   "source": [
    "model.summary()"
   ]
  },
  {
   "cell_type": "code",
   "execution_count": 49,
   "metadata": {
    "collapsed": true,
    "jupyter": {
     "outputs_hidden": true
    }
   },
   "outputs": [],
   "source": [
    "model.compile(loss='mean_squared_error', optimizer ='adam')"
   ]
  },
  {
   "cell_type": "code",
   "execution_count": 50,
   "metadata": {},
   "outputs": [
    {
     "name": "stdout",
     "output_type": "stream",
     "text": [
      "Epoch 1/50\n",
      "957/957 [==============================] - 4s 4ms/step - loss: 0.0441\n",
      "Epoch 2/50\n",
      "957/957 [==============================] - 2s 2ms/step - loss: 0.0056\n",
      "Epoch 3/50\n",
      "957/957 [==============================] - 2s 2ms/step - loss: 0.0043\n",
      "Epoch 4/50\n",
      "957/957 [==============================] - 2s 2ms/step - loss: 0.0042\n",
      "Epoch 5/50\n",
      "957/957 [==============================] - 2s 2ms/step - loss: 0.0040\n",
      "Epoch 6/50\n",
      "957/957 [==============================] - 2s 2ms/step - loss: 0.0046\n",
      "Epoch 7/50\n",
      "957/957 [==============================] - 2s 2ms/step - loss: 0.0043\n",
      "Epoch 8/50\n",
      "957/957 [==============================] - 2s 3ms/step - loss: 0.0037\n",
      "Epoch 9/50\n",
      "957/957 [==============================] - 2s 2ms/step - loss: 0.0037\n",
      "Epoch 10/50\n",
      "957/957 [==============================] - 2s 2ms/step - loss: 0.0034\n",
      "Epoch 11/50\n",
      "957/957 [==============================] - 2s 2ms/step - loss: 0.0034\n",
      "Epoch 12/50\n",
      "957/957 [==============================] - 3s 3ms/step - loss: 0.0039\n",
      "Epoch 13/50\n",
      "957/957 [==============================] - 3s 3ms/step - loss: 0.0039\n",
      "Epoch 14/50\n",
      "957/957 [==============================] - 2s 2ms/step - loss: 0.0033\n",
      "Epoch 15/50\n",
      "957/957 [==============================] - 2s 2ms/step - loss: 0.0036\n",
      "Epoch 16/50\n",
      "957/957 [==============================] - 2s 2ms/step - loss: 0.0033\n",
      "Epoch 17/50\n",
      "957/957 [==============================] - 2s 2ms/step - loss: 0.0030\n",
      "Epoch 18/50\n",
      "957/957 [==============================] - 2s 2ms/step - loss: 0.0028\n",
      "Epoch 19/50\n",
      "957/957 [==============================] - 2s 2ms/step - loss: 0.0028\n",
      "Epoch 20/50\n",
      "957/957 [==============================] - 2s 3ms/step - loss: 0.0029\n",
      "Epoch 21/50\n",
      "957/957 [==============================] - 3s 3ms/step - loss: 0.0028\n",
      "Epoch 22/50\n",
      "957/957 [==============================] - 3s 3ms/step - loss: 0.0028\n",
      "Epoch 23/50\n",
      "957/957 [==============================] - 2s 2ms/step - loss: 0.0028\n",
      "Epoch 24/50\n",
      "957/957 [==============================] - 2s 2ms/step - loss: 0.0030\n",
      "Epoch 25/50\n",
      "957/957 [==============================] - 2s 2ms/step - loss: 0.0026\n",
      "Epoch 26/50\n",
      "957/957 [==============================] - 2s 2ms/step - loss: 0.0027\n",
      "Epoch 27/50\n",
      "957/957 [==============================] - 2s 2ms/step - loss: 0.0025\n",
      "Epoch 28/50\n",
      "957/957 [==============================] - 2s 2ms/step - loss: 0.0027\n",
      "Epoch 29/50\n",
      "957/957 [==============================] - 2s 2ms/step - loss: 0.0026\n",
      "Epoch 30/50\n",
      "957/957 [==============================] - 2s 2ms/step - loss: 0.0030\n",
      "Epoch 31/50\n",
      "957/957 [==============================] - 2s 2ms/step - loss: 0.0024\n",
      "Epoch 32/50\n",
      "957/957 [==============================] - 2s 2ms/step - loss: 0.0025\n",
      "Epoch 33/50\n",
      "957/957 [==============================] - 2s 2ms/step - loss: 0.0027\n",
      "Epoch 34/50\n",
      "957/957 [==============================] - 2s 2ms/step - loss: 0.0025\n",
      "Epoch 35/50\n",
      "957/957 [==============================] - 2s 2ms/step - loss: 0.0025\n",
      "Epoch 36/50\n",
      "957/957 [==============================] - 2s 2ms/step - loss: 0.0023\n",
      "Epoch 37/50\n",
      "957/957 [==============================] - 2s 2ms/step - loss: 0.0023\n",
      "Epoch 38/50\n",
      "957/957 [==============================] - 2s 2ms/step - loss: 0.0029\n",
      "Epoch 39/50\n",
      "957/957 [==============================] - 2s 2ms/step - loss: 0.0022\n",
      "Epoch 40/50\n",
      "957/957 [==============================] - 2s 2ms/step - loss: 0.0024\n",
      "Epoch 41/50\n",
      "957/957 [==============================] - 2s 2ms/step - loss: 0.0022\n",
      "Epoch 42/50\n",
      "957/957 [==============================] - 2s 2ms/step - loss: 0.0023\n",
      "Epoch 43/50\n",
      "957/957 [==============================] - 2s 2ms/step - loss: 0.0023\n",
      "Epoch 44/50\n",
      "957/957 [==============================] - 2s 2ms/step - loss: 0.0021\n",
      "Epoch 45/50\n",
      "957/957 [==============================] - 2s 2ms/step - loss: 0.0024\n",
      "Epoch 46/50\n",
      "957/957 [==============================] - 2s 2ms/step - loss: 0.0024\n",
      "Epoch 47/50\n",
      "957/957 [==============================] - 2s 2ms/step - loss: 0.0023\n",
      "Epoch 48/50\n",
      "957/957 [==============================] - 2s 2ms/step - loss: 0.0023\n",
      "Epoch 49/50\n",
      "957/957 [==============================] - 2s 2ms/step - loss: 0.0025\n",
      "Epoch 50/50\n",
      "957/957 [==============================] - 2s 2ms/step - loss: 0.0021\n"
     ]
    }
   ],
   "source": [
    "if(not os.path.exists(r'C:\\Users\\danie\\Desktop\\LSTM\\stock_prediction.h5')):\n",
    "    model.fit(x_train, y_train, epochs=50, batch_size=32)\n",
    "    model.save(r'C:\\Users\\danie\\Desktop\\LSTM\\stock_prediction.h5')"
   ]
  },
  {
   "cell_type": "code",
   "execution_count": 51,
   "metadata": {
    "collapsed": true,
    "jupyter": {
     "outputs_hidden": true
    }
   },
   "outputs": [],
   "source": [
    "model = load_model(r'C:\\Users\\danie\\Desktop\\LSTM\\stock_prediction.h5')"
   ]
  },
  {
   "cell_type": "code",
   "execution_count": 53,
   "metadata": {
    "scrolled": true
   },
   "outputs": [
    {
     "name": "stdout",
     "output_type": "stream",
     "text": [
      "range(1007, 1259)\n"
     ]
    },
    {
     "data": {
      "image/png": "[encoded data removed]",
      "text/plain": [
       "<matplotlib.figure.Figure at 0x243d96be550>"
      ]
     },
     "metadata": {},
     "output_type": "display_data"
    }
   ],
   "source": [
    "#visualizing our predictions\n",
    "%matplotlib inline\n",
    "predictions = model.predict(x_test)\n",
    "predictions = scaler.inverse_transform(predictions)\n",
    "\n",
    "fig, ax = plt.subplots(figsize=(8,4))\n",
    "plt.plot(df, color='red', label='original Stockprice')\n",
    "ax.plot(range(len(y_train)+50, len(y_train)+50+len(predictions)),predictions,color='blue', label='predicted')\n",
    "plt.legend()\n",
    "print(range(len(y_train)+50, len(y_train)+50+len(predictions)))"
   ]
  },
  {
   "cell_type": "code",
   "execution_count": 54,
   "metadata": {},
   "outputs": [
    {
     "data": {
      "text/plain": [
       "<matplotlib.legend.Legend at 0x243eeb09898>"
      ]
     },
     "execution_count": 54,
     "metadata": {},
     "output_type": "execute_result"
    },
    {
     "data": {
      "image/png": "[encoded data removed]",
      "text/plain": [
       "<matplotlib.figure.Figure at 0x243ee916f98>"
      ]
     },
     "metadata": {},
     "output_type": "display_data"
    }
   ],
   "source": [
    "y_test_scaled = scaler.inverse_transform(y_test.reshape(-1,1))\n",
    "\n",
    "fig, ax = plt.subplots(figsize=(8,4))\n",
    "ax.plot(y_test_scaled, color='red', label = 'True Price of testing set')\n",
    "plt.plot(predictions, color = 'blue', label='predicted')\n",
    "plt.legend()"
   ]
  }
 ],
 "metadata": {
  "kernelspec": {
   "display_name": "Python 3",
   "language": "python",
   "name": "python3"
  },
  "language_info": {
   "codemirror_mode": {
    "name": "ipython",
    "version": 3
   },
   "file_extension": ".py",
   "mimetype": "text/x-python",
   "name": "python",
   "nbconvert_exporter": "python",
   "pygments_lexer": "ipython3",
   "version": "3.8.5"
  }
 },
 "nbformat": 4,
 "nbformat_minor": 4
}
