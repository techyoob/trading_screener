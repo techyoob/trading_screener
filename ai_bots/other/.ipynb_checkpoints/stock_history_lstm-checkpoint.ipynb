{
 "cells": [
  {
   "cell_type": "code",
   "execution_count": 101,
   "metadata": {},
   "outputs": [],
   "source": [
    "import numpy as np\n",
    "import pandas as pd\n",
    "import matplotlib.pyplot as plt\n",
    "from sklearn.preprocessing import MinMaxScaler\n",
    "from keras.models import Sequential, load_model\n",
    "from keras.layers import LSTM, Dense, Dropout\n",
    "import os\n",
    "import tensorflow as tf\n"
   ]
  },
  {
   "cell_type": "code",
   "execution_count": 102,
   "metadata": {},
   "outputs": [
    {
     "data": {
      "text/html": [
       "<div>\n",
       "<style scoped>\n",
       "    .dataframe tbody tr th:only-of-type {\n",
       "        vertical-align: middle;\n",
       "    }\n",
       "\n",
       "    .dataframe tbody tr th {\n",
       "        vertical-align: top;\n",
       "    }\n",
       "\n",
       "    .dataframe thead th {\n",
       "        text-align: right;\n",
       "    }\n",
       "</style>\n",
       "<table border=\"1\" class=\"dataframe\">\n",
       "  <thead>\n",
       "    <tr style=\"text-align: right;\">\n",
       "      <th></th>\n",
       "      <th>date</th>\n",
       "      <th>open</th>\n",
       "      <th>high</th>\n",
       "      <th>low</th>\n",
       "      <th>close</th>\n",
       "      <th>volume</th>\n",
       "      <th>Name</th>\n",
       "    </tr>\n",
       "  </thead>\n",
       "  <tbody>\n",
       "    <tr>\n",
       "      <th>0</th>\n",
       "      <td>2013-02-08</td>\n",
       "      <td>67.7142</td>\n",
       "      <td>68.4014</td>\n",
       "      <td>66.8928</td>\n",
       "      <td>67.8542</td>\n",
       "      <td>158168416</td>\n",
       "      <td>AAPL</td>\n",
       "    </tr>\n",
       "    <tr>\n",
       "      <th>1</th>\n",
       "      <td>2013-02-11</td>\n",
       "      <td>68.0714</td>\n",
       "      <td>69.2771</td>\n",
       "      <td>67.6071</td>\n",
       "      <td>68.5614</td>\n",
       "      <td>129029425</td>\n",
       "      <td>AAPL</td>\n",
       "    </tr>\n",
       "    <tr>\n",
       "      <th>2</th>\n",
       "      <td>2013-02-12</td>\n",
       "      <td>68.5014</td>\n",
       "      <td>68.9114</td>\n",
       "      <td>66.8205</td>\n",
       "      <td>66.8428</td>\n",
       "      <td>151829363</td>\n",
       "      <td>AAPL</td>\n",
       "    </tr>\n",
       "    <tr>\n",
       "      <th>3</th>\n",
       "      <td>2013-02-13</td>\n",
       "      <td>66.7442</td>\n",
       "      <td>67.6628</td>\n",
       "      <td>66.1742</td>\n",
       "      <td>66.7156</td>\n",
       "      <td>118721995</td>\n",
       "      <td>AAPL</td>\n",
       "    </tr>\n",
       "    <tr>\n",
       "      <th>4</th>\n",
       "      <td>2013-02-14</td>\n",
       "      <td>66.3599</td>\n",
       "      <td>67.3771</td>\n",
       "      <td>66.2885</td>\n",
       "      <td>66.6556</td>\n",
       "      <td>88809154</td>\n",
       "      <td>AAPL</td>\n",
       "    </tr>\n",
       "  </tbody>\n",
       "</table>\n",
       "</div>"
      ],
      "text/plain": [
       "         date     open     high      low    close     volume  Name\n",
       "0  2013-02-08  67.7142  68.4014  66.8928  67.8542  158168416  AAPL\n",
       "1  2013-02-11  68.0714  69.2771  67.6071  68.5614  129029425  AAPL\n",
       "2  2013-02-12  68.5014  68.9114  66.8205  66.8428  151829363  AAPL\n",
       "3  2013-02-13  66.7442  67.6628  66.1742  66.7156  118721995  AAPL\n",
       "4  2013-02-14  66.3599  67.3771  66.2885  66.6556   88809154  AAPL"
      ]
     },
     "execution_count": 102,
     "metadata": {},
     "output_type": "execute_result"
    }
   ],
   "source": [
    "df = pd.read_csv(r'D:\\screener_project\\ai\\lstm\\AAPL.csv')\n",
    "df.head()"
   ]
  },
  {
   "cell_type": "code",
   "execution_count": 103,
   "metadata": {},
   "outputs": [
    {
     "name": "stdout",
     "output_type": "stream",
     "text": [
      "(1259, 1)\n"
     ]
    },
    {
     "data": {
      "text/plain": [
       "array([[67.7142],\n",
       "       [68.0714],\n",
       "       [68.5014],\n",
       "       [66.7442],\n",
       "       [66.3599],\n",
       "       [66.9785],\n",
       "       [65.8714]])"
      ]
     },
     "execution_count": 103,
     "metadata": {},
     "output_type": "execute_result"
    }
   ],
   "source": [
    "# preprocessing data\n",
    "df = df['open'].values\n",
    "df = df.reshape(-1, 1)\n",
    "print(df.shape)\n",
    "df[:7]"
   ]
  },
  {
   "cell_type": "code",
   "execution_count": 104,
   "metadata": {},
   "outputs": [
    {
     "name": "stdout",
     "output_type": "stream",
     "text": [
      "(1007, 1)\n",
      "(302, 1)\n"
     ]
    }
   ],
   "source": [
    "dataset_train = np.array(df[:int(df.shape[0]*0.8)])\n",
    "dataset_test = np.array(df[int(df.shape[0]*0.8)-50:])\n",
    "print(dataset_train.shape)\n",
    "print(dataset_test.shape)"
   ]
  },
  {
   "cell_type": "code",
   "execution_count": 105,
   "metadata": {},
   "outputs": [
    {
     "data": {
      "text/plain": [
       "array([[0.15550899],\n",
       "       [0.16002875],\n",
       "       [0.16546966],\n",
       "       [0.1432353 ],\n",
       "       [0.13837263],\n",
       "       [0.14619996],\n",
       "       [0.1321915 ]])"
      ]
     },
     "execution_count": 105,
     "metadata": {},
     "output_type": "execute_result"
    }
   ],
   "source": [
    "scaler = MinMaxScaler(feature_range=(0, 1))\n",
    "dataset_train = scaler.fit_transform(dataset_train)\n",
    "dataset_train[:7]"
   ]
  },
  {
   "cell_type": "code",
   "execution_count": 106,
   "metadata": {},
   "outputs": [
    {
     "data": {
      "text/plain": [
       "array([[0.7048619 ],\n",
       "       [0.70865789],\n",
       "       [0.70043325],\n",
       "       [0.71080895],\n",
       "       [0.69518213],\n",
       "       [0.68006144],\n",
       "       [0.69056368]])"
      ]
     },
     "execution_count": 106,
     "metadata": {},
     "output_type": "execute_result"
    }
   ],
   "source": [
    "dataset_test = scaler.transform(dataset_test)\n",
    "dataset_test[:7]"
   ]
  },
  {
   "cell_type": "code",
   "execution_count": 107,
   "metadata": {},
   "outputs": [],
   "source": [
    "def create_my_dataset(df):\n",
    "    x = []\n",
    "    y = []\n",
    "    for i in range(50, df.shape[0]):\n",
    "        x.append(df[i-50:i, 0])\n",
    "        y.append(df[i, 0])\n",
    "    x = np.array(x)\n",
    "    y = np.array(y)\n",
    "    return x,y"
   ]
  },
  {
   "cell_type": "code",
   "execution_count": 108,
   "metadata": {},
   "outputs": [
    {
     "data": {
      "text/plain": [
       "array([[0.15550899, 0.16002875, 0.16546966, 0.1432353 , 0.13837263,\n",
       "        0.14619996, 0.1321915 , 0.12602681, 0.10489581, 0.11077074,\n",
       "        0.11908522, 0.10095558, 0.10928904, 0.10137187, 0.09043563,\n",
       "        0.07199725, 0.06057385, 0.08412669, 0.06603248, 0.07561229,\n",
       "        0.07552245, 0.08609681, 0.07317274, 0.0810899 , 0.09030909,\n",
       "        0.09667117, 0.12929896, 0.1255384 , 0.11252448, 0.12040496,\n",
       "        0.13868011, 0.14003654, 0.12380363, 0.11180072, 0.09748478,\n",
       "        0.07163663, 0.07845043, 0.08277153, 0.06603248, 0.06666515,\n",
       "        0.06939446, 0.07254007, 0.08269814, 0.08347632, 0.07055098,\n",
       "        0.06073581, 0.0583861 , 0.03076649, 0.        , 0.00844228]])"
      ]
     },
     "execution_count": 108,
     "metadata": {},
     "output_type": "execute_result"
    }
   ],
   "source": [
    "x_train, y_train = create_my_dataset(dataset_train)\n",
    "x_train[:1]"
   ]
  },
  {
   "cell_type": "code",
   "execution_count": 109,
   "metadata": {},
   "outputs": [
    {
     "data": {
      "text/plain": [
       "array([0.02895833])"
      ]
     },
     "execution_count": 109,
     "metadata": {},
     "output_type": "execute_result"
    }
   ],
   "source": [
    "y_train[:1]"
   ]
  },
  {
   "cell_type": "code",
   "execution_count": 110,
   "metadata": {},
   "outputs": [
    {
     "data": {
      "text/plain": [
       "array([[0.7048619 , 0.70865789, 0.70043325, 0.71080895, 0.69518213,\n",
       "        0.68006144, 0.69056368, 0.68423703, 0.68120024, 0.70144551,\n",
       "        0.71979279, 0.73219302, 0.73915233, 0.75433628, 0.7586384 ,\n",
       "        0.7724305 , 0.76395279, 0.77584689, 0.77660608, 0.7709121 ,\n",
       "        0.7612956 , 0.77306316, 0.78571645, 0.77217743, 0.77470809,\n",
       "        0.76395279, 0.76458545, 0.76547118, 0.77635302, 0.79115737,\n",
       "        0.80153307, 0.80115347, 0.80311474, 0.80583519, 0.79609216,\n",
       "        0.81709663, 0.80950465, 0.82279061, 0.81709663, 0.81140264,\n",
       "        0.82241101, 0.83822763, 0.84417468, 0.82886419, 0.83164791,\n",
       "        0.90604929, 0.91800665, 0.9222455 , 0.93262121, 0.95046235]])"
      ]
     },
     "execution_count": 110,
     "metadata": {},
     "output_type": "execute_result"
    }
   ],
   "source": [
    "x_test, y_test = create_my_dataset(dataset_test)\n",
    "x_test[:1]"
   ]
  },
  {
   "cell_type": "code",
   "execution_count": 111,
   "metadata": {},
   "outputs": [
    {
     "name": "stdout",
     "output_type": "stream",
     "text": [
      "(957, 50, 1)\n",
      "(252, 50, 1)\n"
     ]
    }
   ],
   "source": [
    "#reshaping for LTSM\n",
    "x_train = np.reshape(x_train, (x_train.shape[0], x_train.shape[1], 1))\n",
    "x_test = np.reshape(x_test, (x_test.shape[0], x_test.shape[1],1))\n",
    "print(x_train.shape)\n",
    "print(x_test.shape)"
   ]
  },
  {
   "cell_type": "code",
   "execution_count": 112,
   "metadata": {},
   "outputs": [],
   "source": [
    "tf.compat.v1.logging.set_verbosity(tf.compat.v1.logging.ERROR)\n",
    "model = Sequential()\n",
    "model.add(LSTM(units=96, return_sequences=True, input_shape=(x_train.shape[1], 1)))\n",
    "model.add(Dropout(0.2))\n",
    "model.add(LSTM(units=96, return_sequences=True))\n",
    "model.add(Dropout(0.2))\n",
    "model.add(LSTM(units=96))\n",
    "model.add(Dropout(0.2))\n",
    "model.add(Dense(units=1))"
   ]
  },
  {
   "cell_type": "code",
   "execution_count": 113,
   "metadata": {},
   "outputs": [
    {
     "name": "stdout",
     "output_type": "stream",
     "text": [
      "Model: \"sequential_5\"\n",
      "_________________________________________________________________\n",
      "Layer (type)                 Output Shape              Param #   \n",
      "=================================================================\n",
      "lstm_11 (LSTM)               (None, 50, 96)            37632     \n",
      "_________________________________________________________________\n",
      "dropout_10 (Dropout)         (None, 50, 96)            0         \n",
      "_________________________________________________________________\n",
      "lstm_12 (LSTM)               (None, 50, 96)            74112     \n",
      "_________________________________________________________________\n",
      "dropout_11 (Dropout)         (None, 50, 96)            0         \n",
      "_________________________________________________________________\n",
      "lstm_13 (LSTM)               (None, 96)                74112     \n",
      "_________________________________________________________________\n",
      "dropout_12 (Dropout)         (None, 96)                0         \n",
      "_________________________________________________________________\n",
      "dense_3 (Dense)              (None, 1)                 97        \n",
      "=================================================================\n",
      "Total params: 185,953\n",
      "Trainable params: 185,953\n",
      "Non-trainable params: 0\n",
      "_________________________________________________________________\n"
     ]
    }
   ],
   "source": [
    "model.summary()"
   ]
  },
  {
   "cell_type": "code",
   "execution_count": 114,
   "metadata": {},
   "outputs": [],
   "source": [
    "model.compile(loss='mean_squared_error', optimizer = 'adam')"
   ]
  },
  {
   "cell_type": "code",
   "execution_count": 115,
   "metadata": {},
   "outputs": [
    {
     "name": "stdout",
     "output_type": "stream",
     "text": [
      "Epoch 1/50\n",
      "30/30 [==============================] - 5s 31ms/step - loss: 0.0960\n",
      "Epoch 2/50\n",
      "30/30 [==============================] - 1s 31ms/step - loss: 0.0081\n",
      "Epoch 3/50\n",
      "30/30 [==============================] - 1s 31ms/step - loss: 0.0047\n",
      "Epoch 4/50\n",
      "30/30 [==============================] - 1s 31ms/step - loss: 0.0051\n",
      "Epoch 5/50\n",
      "30/30 [==============================] - 1s 31ms/step - loss: 0.0047\n",
      "Epoch 6/50\n",
      "30/30 [==============================] - 1s 31ms/step - loss: 0.0047\n",
      "Epoch 7/50\n",
      "30/30 [==============================] - 1s 31ms/step - loss: 0.0038\n",
      "Epoch 8/50\n",
      "30/30 [==============================] - 1s 31ms/step - loss: 0.0044: 0s - loss: \n",
      "Epoch 9/50\n",
      "30/30 [==============================] - 1s 31ms/step - loss: 0.0041\n",
      "Epoch 10/50\n",
      "30/30 [==============================] - 1s 31ms/step - loss: 0.0034\n",
      "Epoch 11/50\n",
      "30/30 [==============================] - 1s 31ms/step - loss: 0.0039\n",
      "Epoch 12/50\n",
      "30/30 [==============================] - 1s 31ms/step - loss: 0.0032\n",
      "Epoch 13/50\n",
      "30/30 [==============================] - 1s 31ms/step - loss: 0.0038\n",
      "Epoch 14/50\n",
      "30/30 [==============================] - 1s 31ms/step - loss: 0.0047\n",
      "Epoch 15/50\n",
      "30/30 [==============================] - 1s 31ms/step - loss: 0.0030\n",
      "Epoch 16/50\n",
      "30/30 [==============================] - 1s 31ms/step - loss: 0.0033\n",
      "Epoch 17/50\n",
      "30/30 [==============================] - 1s 31ms/step - loss: 0.0033\n",
      "Epoch 18/50\n",
      "30/30 [==============================] - 1s 31ms/step - loss: 0.0037: 0s - l\n",
      "Epoch 19/50\n",
      "30/30 [==============================] - 1s 31ms/step - loss: 0.0033\n",
      "Epoch 20/50\n",
      "30/30 [==============================] - 1s 31ms/step - loss: 0.0032\n",
      "Epoch 21/50\n",
      "30/30 [==============================] - 1s 31ms/step - loss: 0.0034\n",
      "Epoch 22/50\n",
      "30/30 [==============================] - 1s 31ms/step - loss: 0.0031\n",
      "Epoch 23/50\n",
      "30/30 [==============================] - 1s 31ms/step - loss: 0.0030\n",
      "Epoch 24/50\n",
      "30/30 [==============================] - 1s 31ms/step - loss: 0.0031\n",
      "Epoch 25/50\n",
      "30/30 [==============================] - 1s 31ms/step - loss: 0.0026\n",
      "Epoch 26/50\n",
      "30/30 [==============================] - 1s 31ms/step - loss: 0.0029\n",
      "Epoch 27/50\n",
      "30/30 [==============================] - 1s 31ms/step - loss: 0.0029\n",
      "Epoch 28/50\n",
      "30/30 [==============================] - 1s 31ms/step - loss: 0.0027\n",
      "Epoch 29/50\n",
      "30/30 [==============================] - 1s 31ms/step - loss: 0.0027\n",
      "Epoch 30/50\n",
      "30/30 [==============================] - 1s 31ms/step - loss: 0.0026\n",
      "Epoch 31/50\n",
      "30/30 [==============================] - 1s 31ms/step - loss: 0.0029: 0s - lo\n",
      "Epoch 32/50\n",
      "30/30 [==============================] - 1s 31ms/step - loss: 0.0025\n",
      "Epoch 33/50\n",
      "30/30 [==============================] - 1s 32ms/step - loss: 0.0030\n",
      "Epoch 34/50\n",
      "30/30 [==============================] - 1s 33ms/step - loss: 0.0026\n",
      "Epoch 35/50\n",
      "30/30 [==============================] - 1s 33ms/step - loss: 0.0025\n",
      "Epoch 36/50\n",
      "30/30 [==============================] - 1s 33ms/step - loss: 0.0025\n",
      "Epoch 37/50\n",
      "30/30 [==============================] - 1s 33ms/step - loss: 0.0024\n",
      "Epoch 38/50\n",
      "30/30 [==============================] - 1s 33ms/step - loss: 0.0028\n",
      "Epoch 39/50\n",
      "30/30 [==============================] - 1s 33ms/step - loss: 0.0026\n",
      "Epoch 40/50\n",
      "30/30 [==============================] - 1s 33ms/step - loss: 0.0023\n",
      "Epoch 41/50\n",
      "30/30 [==============================] - 1s 33ms/step - loss: 0.0023\n",
      "Epoch 42/50\n",
      "30/30 [==============================] - 1s 33ms/step - loss: 0.0022\n",
      "Epoch 43/50\n",
      "30/30 [==============================] - 1s 33ms/step - loss: 0.0023\n",
      "Epoch 44/50\n",
      "30/30 [==============================] - 1s 33ms/step - loss: 0.0025\n",
      "Epoch 45/50\n",
      "30/30 [==============================] - 1s 33ms/step - loss: 0.0026\n",
      "Epoch 46/50\n",
      "30/30 [==============================] - 1s 33ms/step - loss: 0.0021\n",
      "Epoch 47/50\n",
      "30/30 [==============================] - 1s 33ms/step - loss: 0.0027\n",
      "Epoch 48/50\n",
      "30/30 [==============================] - 1s 33ms/step - loss: 0.0020\n",
      "Epoch 49/50\n",
      "30/30 [==============================] - 1s 33ms/step - loss: 0.0022\n",
      "Epoch 50/50\n",
      "30/30 [==============================] - 1s 33ms/step - loss: 0.0019\n"
     ]
    }
   ],
   "source": [
    "if(not os.path.exists(r'D:\\screener_project\\ai\\lstm\\stock_prediction.h5')):\n",
    "    model.fit(x_train, y_train, epochs=50, batch_size=32)\n",
    "    model.save(r'D:\\screener_project\\ai\\lstm\\stock_prediction.h5')"
   ]
  },
  {
   "cell_type": "code",
   "execution_count": 116,
   "metadata": {},
   "outputs": [],
   "source": [
    "model = load_model(r'D:\\screener_project\\ai\\lstm\\stock_prediction.h5')"
   ]
  },
  {
   "cell_type": "code",
   "execution_count": 117,
   "metadata": {},
   "outputs": [
    {
     "name": "stdout",
     "output_type": "stream",
     "text": [
      "range(1007, 1259)\n"
     ]
    },
    {
     "data": {
      "image/png": "[encoded data removed]",
      "text/plain": [
       "<Figure size 576x288 with 1 Axes>"
      ]
     },
     "metadata": {
      "needs_background": "light"
     },
     "output_type": "display_data"
    }
   ],
   "source": [
    "#visualizing our predictions \n",
    "%matplotlib inline\n",
    "predictions = model.predict(x_test)\n",
    "predictions = scaler.inverse_transform(predictions)\n",
    "\n",
    "fig, ax = plt.subplots(figsize=(8,4))\n",
    "plt.plot(df, color='red', label='original Stockprice')\n",
    "ax.plot(range(len(y_train)+50, len(y_train)+50+len(predictions)), predictions, color='blue', label='predicted')\n",
    "plt.legend()\n",
    "print(range(len(y_train)+50, len(y_train)+50+len(predictions)))"
   ]
  },
  {
   "cell_type": "code",
   "execution_count": 118,
   "metadata": {},
   "outputs": [
    {
     "data": {
      "text/plain": [
       "<matplotlib.legend.Legend at 0x15be9573f40>"
      ]
     },
     "execution_count": 118,
     "metadata": {},
     "output_type": "execute_result"
    },
    {
     "data": {
      "image/png": "[encoded data removed]",
      "text/plain": [
       "<Figure size 576x288 with 1 Axes>"
      ]
     },
     "metadata": {
      "needs_background": "light"
     },
     "output_type": "display_data"
    }
   ],
   "source": [
    "y_test_scaled = scaler.inverse_transform(y_test.reshape(-1, 1))\n",
    "fig, ax = plt.subplots(figsize=(8,4))\n",
    "ax.plot(y_test_scaled, color='red', label = 'True Price of testing set')\n",
    "plt.plot(predictions, color = 'blue', label='predicted')\n",
    "plt.legend()"
   ]
  },
  {
   "cell_type": "code",
   "execution_count": null,
   "metadata": {},
   "outputs": [],
   "source": []
  }
 ],
 "metadata": {
  "kernelspec": {
   "display_name": "Python 3",
   "language": "python",
   "name": "python3"
  },
  "language_info": {
   "codemirror_mode": {
    "name": "ipython",
    "version": 3
   },
   "file_extension": ".py",
   "mimetype": "text/x-python",
   "name": "python",
   "nbconvert_exporter": "python",
   "pygments_lexer": "ipython3",
   "version": "3.8.5"
  }
 },
 "nbformat": 4,
 "nbformat_minor": 4
}
